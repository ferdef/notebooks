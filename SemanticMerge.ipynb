{
    "metadata": {
        "kernelspec": {
            "name": "SQL",
            "display_name": "SQL",
            "language": "sql"
        },
        "language_info": {
            "name": "sql",
            "version": ""
        }
    },
    "nbformat_minor": 2,
    "nbformat": 4,
    "cells": [
        {
            "cell_type": "markdown",
            "source": [
                "# Number of active perpetual licences"
            ],
            "metadata": {
                "azdata_cell_guid": "b4dcce76-5919-4869-b2d5-5425031d2409"
            },
            "attachments": {}
        },
        {
            "cell_type": "code",
            "source": [
                "DECLARE @date AS DATETIME = '2022-03-28 00:00:00.000';\n",
                "\n",
                "SELECT\n",
                "    COUNT(l.iid) AS 'Active perpetual licences'\n",
                "FROM\n",
                "    dd_semanticlicense l\n",
                "    INNER JOIN dd_customers c ON c.iid = l.iidcustomer\n",
                "WHERE \n",
                "    c.scompany NOT IN ('Unity')\n",
                "    AND c.scompany NOT LIKE '%codice%'\n",
                "    AND c.scompany NOT LIKE '%Códice%'\n",
                "    AND c.semail NOT IN ('rubarax@gmail.com', 'sra.violeta.miller@gmail.com', 'lucius210685@yahoo.es')\n",
                "    AND l.dexpirationdate > @date\n",
                "    AND l.ilicensetype = 0"
            ],
            "metadata": {
                "azdata_cell_guid": "8917a3d8-e83b-49b9-8204-5db995555fb7"
            },
            "outputs": [
                {
                    "output_type": "display_data",
                    "data": {
                        "text/html": "(1 row affected)"
                    },
                    "metadata": {}
                },
                {
                    "output_type": "display_data",
                    "data": {
                        "text/html": "Total execution time: 00:00:00.152"
                    },
                    "metadata": {}
                },
                {
                    "output_type": "execute_result",
                    "metadata": {},
                    "execution_count": 2,
                    "data": {
                        "application/vnd.dataresource+json": {
                            "schema": {
                                "fields": [
                                    {
                                        "name": "Active perpetual licences"
                                    }
                                ]
                            },
                            "data": [
                                {
                                    "0": "3"
                                }
                            ]
                        },
                        "text/html": [
                            "<table>",
                            "<tr><th>Active perpetual licences</th></tr>",
                            "<tr><td>3</td></tr>",
                            "</table>"
                        ]
                    }
                }
            ],
            "execution_count": 2
        },
        {
            "cell_type": "markdown",
            "source": [
                "# Number of non-internal users with active licence"
            ],
            "metadata": {
                "azdata_cell_guid": "6f985958-9e9b-4cf2-b106-5c69fbe199f0"
            },
            "attachments": {}
        },
        {
            "cell_type": "code",
            "source": [
                "DECLARE @date AS DATETIME = '2022-03-28 00:00:00.000';\n",
                "\n",
                "SELECT\n",
                "    COUNT(DISTINCT(l.iidcustomer)) as 'Total number of not-internal-clients with active license'\n",
                "FROM\n",
                "    dd_semanticlicense l\n",
                "    INNER JOIN dd_customers c ON l.iidcustomer = c.iid\n",
                "WHERE \n",
                "    c.scompany NOT IN ('Unity') AND\n",
                "    c.scompany NOT LIKE '%codice%' AND\n",
                "    c.scompany NOT LIKE '%Códice%' AND\n",
                "    c.semail NOT IN ('rubarax@gmail.com', 'sra.violeta.miller@gmail.com', 'lucius210685@yahoo.es') AND\n",
                "    l.dexpirationdate > @date"
            ],
            "metadata": {
                "azdata_cell_guid": "fe434458-1756-40d9-8708-e4f56374a61f"
            },
            "outputs": [
                {
                    "output_type": "display_data",
                    "data": {
                        "text/html": "(1 row affected)"
                    },
                    "metadata": {}
                },
                {
                    "output_type": "display_data",
                    "data": {
                        "text/html": "Total execution time: 00:00:00.153"
                    },
                    "metadata": {}
                },
                {
                    "output_type": "execute_result",
                    "metadata": {},
                    "execution_count": 5,
                    "data": {
                        "application/vnd.dataresource+json": {
                            "schema": {
                                "fields": [
                                    {
                                        "name": "Total number of not-internal-clients with active license"
                                    }
                                ]
                            },
                            "data": [
                                {
                                    "0": "244"
                                }
                            ]
                        },
                        "text/html": [
                            "<table>",
                            "<tr><th>Total number of not-internal-clients with active license</th></tr>",
                            "<tr><td>244</td></tr>",
                            "</table>"
                        ]
                    }
                }
            ],
            "execution_count": 5
        },
        {
            "cell_type": "markdown",
            "source": [
                "# Active licences"
            ],
            "metadata": {
                "azdata_cell_guid": "2f15909a-1620-4038-8e1c-486038728a66"
            },
            "attachments": {}
        },
        {
            "cell_type": "code",
            "source": [
                "DECLARE @date AS DATETIME = '2022-03-28 00:00:00.000';\n",
                "\n",
                "SELECT\n",
                "    COUNT(iid) as 'Active licenses'\n",
                "FROM\n",
                "    dd_semanticlicense l\n",
                "WHERE\n",
                "    l.dexpirationdate > @date"
            ],
            "metadata": {
                "azdata_cell_guid": "562ed288-4e6f-43be-b5a1-bc12d542c69f"
            },
            "outputs": [
                {
                    "output_type": "display_data",
                    "data": {
                        "text/html": "(1 row affected)"
                    },
                    "metadata": {}
                },
                {
                    "output_type": "display_data",
                    "data": {
                        "text/html": "Total execution time: 00:00:00.120"
                    },
                    "metadata": {}
                },
                {
                    "output_type": "execute_result",
                    "metadata": {},
                    "execution_count": 6,
                    "data": {
                        "application/vnd.dataresource+json": {
                            "schema": {
                                "fields": [
                                    {
                                        "name": "Active licenses"
                                    }
                                ]
                            },
                            "data": [
                                {
                                    "0": "567"
                                }
                            ]
                        },
                        "text/html": [
                            "<table>",
                            "<tr><th>Active licenses</th></tr>",
                            "<tr><td>567</td></tr>",
                            "</table>"
                        ]
                    }
                }
            ],
            "execution_count": 6
        },
        {
            "cell_type": "markdown",
            "source": [
                "# All licenses and its information of customers"
            ],
            "metadata": {
                "azdata_cell_guid": "4a93459f-c9a0-4986-842c-96cd5176309c"
            },
            "attachments": {}
        },
        {
            "cell_type": "code",
            "source": [
                "DECLARE @date AS DATETIME = '2022-03-28 00:00:00.000';\n",
                "\n",
                "SELECT c.sfirstname as Name,\n",
                "        c.slastname as LastName, \n",
                "        c.semail as Email,\n",
                "        c.scompany as Company, \n",
                "        c.sphone as Phone,\n",
                "        CASE(l.ilicensetype) \n",
                "            WHEN 0 THEN 'Perpetual'\n",
                "            WHEN 1 THEN 'Limited by date'\n",
                "            WHEN 2 THEN 'Limited by month'\n",
                "            WHEN 3 THEN 'Limited by year'\n",
                "        END as 'License type',\n",
                "        l.dgeneratedon as 'Purchase Date',\n",
                "        l.dexpirationdate as 'Expiration Date'\n",
                "FROM dd_semanticlicense l\n",
                "INNER JOIN dd_customers c on l.iidcustomer = c.iid\n",
                "WHERE \n",
                "    c.scompany NOT IN ('Unity')\n",
                "    AND c.scompany NOT LIKE '%codice%'\n",
                "    AND c.scompany NOT LIKE '%Códice%'\n",
                "    AND c.semail NOT IN ('rubarax@gmail.com', 'sra.violeta.miller@gmail.com', 'lucius210685@yahoo.es')\n",
                "    AND (l.dexpirationdate > @date OR l.ilicensetype = 0)\n",
                "ORDER BY l.iidcustomer"
            ],
            "metadata": {
                "azdata_cell_guid": "13a61c92-f52e-47f4-8c44-940ef85094ca"
            },
            "outputs": [
                {
                    "output_type": "error",
                    "evalue": "Msg 8121, Level 16, State 1, Line 22\nColumn 'dd_semanticlicense.dexpirationdate' is invalid in the HAVING clause because it is not contained in either an aggregate function or the GROUP BY clause.",
                    "ename": "",
                    "traceback": []
                },
                {
                    "output_type": "display_data",
                    "data": {
                        "text/html": "Total execution time: 00:00:00.118"
                    },
                    "metadata": {}
                }
            ],
            "execution_count": 15
        },
        {
            "cell_type": "markdown",
            "source": [
                "# All licenses and its information of customers grouped"
            ],
            "metadata": {
                "azdata_cell_guid": "f3cfccdf-8e5f-48ee-bf9e-67f3f58d8fcf"
            },
            "attachments": {}
        },
        {
            "cell_type": "code",
            "source": [
                "DECLARE @date AS DATETIME = '2022-03-28 00:00:00.000';\n",
                "\n",
                "WITH Accounts(licenseID, userID, semail, licenseType) AS (\n",
                "    SELECT \n",
                "        l.iid,\n",
                "        c.iid,\n",
                "        c.semail as Email,\n",
                "        l.ilicensetype\n",
                "    FROM dd_semanticlicense l\n",
                "    INNER JOIN dd_customers c on l.iidcustomer = c.iid\n",
                "    WHERE \n",
                "        c.scompany NOT IN ('Unity')\n",
                "        AND c.scompany NOT LIKE '%codice%'\n",
                "        AND c.scompany NOT LIKE '%Códice%'\n",
                "        AND c.semail NOT IN ('rubarax@gmail.com', 'sra.violeta.miller@gmail.com', 'lucius210685@yahoo.es')\n",
                "        AND (l.dexpirationdate > @date OR l.ilicensetype = 0)\n",
                ")\n",
                "\n",
                "SELECT \n",
                "    c.semail,\n",
                "    c.sfirstname,\n",
                "    c.slastname,\n",
                "    Acc.Licenses,\n",
                "    CASE(Acc.licenseType) \n",
                "            WHEN 0 THEN 'Perpetual'\n",
                "            WHEN 1 THEN 'Limited by date'\n",
                "            WHEN 2 THEN 'Limited by month'\n",
                "            WHEN 3 THEN 'Limited by year'\n",
                "        END as 'License type'\n",
                "FROM dd_customers c\n",
                "JOIN (\n",
                "    SELECT \n",
                "        a.userID,\n",
                "        COUNT(a.licenseID) as 'Licenses',\n",
                "        a.licenseType\n",
                "    FROM Accounts a\n",
                "    GROUP BY a.userID, a.licenseType\n",
                ") Acc ON ACC.userID = c.iid\n",
                ""
            ],
            "metadata": {
                "azdata_cell_guid": "f93efe3a-9f2f-4341-9855-f6b281188073"
            },
            "outputs": [
                {
                    "output_type": "display_data",
                    "data": {
                        "text/html": "(472 rows affected)"
                    },
                    "metadata": {}
                },
                {
                    "output_type": "display_data",
                    "data": {
                        "text/html": "Total execution time: 00:00:00.921"
                    },
                    "metadata": {}
                },
                {
                    "output_type": "execute_result",
                    "metadata": {},
                    "execution_count": 26,
                    "data": {
                        "application/vnd.dataresource+json": {
                            "schema": {
                                "fields": [
                                    {
                                        "name": "semail"
                                    },
                                    {
                                        "name": "sfirstname"
                                    },
                                    {
                                        "name": "slastname"
                                    },
                                    {
                                        "name": "Licenses"
                                    },
                                    {
                                        "name": "License type"
                                    }
                                ]
                            },
                            "data": [
                                {
                                    "0": "joeysmith@gmail.com",
                                    "1": "Joey",
                                    "2": "Smith",
                                    "3": "1",
                                    "4": "Perpetual"
                                },
                                {
                                    "0": "arontsang@gmail.com",
                                    "1": "Aron",
                                    "2": "Tsang",
                                    "3": "3",
                                    "4": "Perpetual"
                                },
                                {
                                    "0": "josh@jjmatthews.co.uk",
                                    "1": "Josh",
                                    "2": "Matthews",
                                    "3": "1",
                                    "4": "Limited by year"
                                },
                                {
                                    "0": "jim.simmons@sclhs.net",
                                    "1": "",
                                    "2": "",
                                    "3": "1",
                                    "4": "Perpetual"
                                },
                                {
                                    "0": "peter@reliabware.com",
                                    "1": "",
                                    "2": "",
                                    "3": "2",
                                    "4": "Limited by year"
                                },
                                {
                                    "0": "nick.kaye@sungard.com",
                                    "1": "",
                                    "2": "",
                                    "3": "1",
                                    "4": "Perpetual"
                                },
                                {
                                    "0": "bradrembielak@live.com",
                                    "1": "",
                                    "2": "",
                                    "3": "2",
                                    "4": "Perpetual"
                                },
                                {
                                    "0": "it.asset.management@danskebank.dk",
                                    "1": "Laura",
                                    "2": "Buozelyte",
                                    "3": "2",
                                    "4": "Perpetual"
                                },
                                {
                                    "0": "karin.reysen@siemens.com",
                                    "1": "Karin",
                                    "2": "Reysen",
                                    "3": "1",
                                    "4": "Perpetual"
                                },
                                {
                                    "0": "operations@pnimedia.com",
                                    "1": "PNI",
                                    "2": "Operations",
                                    "3": "4",
                                    "4": "Perpetual"
                                },
                                {
                                    "0": "homero.villarreal.nava@gmail.com",
                                    "1": "Homero",
                                    "2": "Villarreal",
                                    "3": "1",
                                    "4": "Limited by year"
                                },
                                {
                                    "0": "apearce@uk.imshealth.com",
                                    "1": "Ami",
                                    "2": "Pearce",
                                    "3": "9",
                                    "4": "Perpetual"
                                },
                                {
                                    "0": "miryam.gsm@gmail.com",
                                    "1": "",
                                    "2": "",
                                    "3": "5",
                                    "4": "Perpetual"
                                },
                                {
                                    "0": "dmitry.vorobyov@gmail.com",
                                    "1": "",
                                    "2": "",
                                    "3": "1",
                                    "4": "Perpetual"
                                },
                                {
                                    "0": "jolene.stelle@visionsolutions.com",
                                    "1": "",
                                    "2": "",
                                    "3": "4",
                                    "4": "Perpetual"
                                },
                                {
                                    "0": "remi+semanticmerge@despres-smyth.com",
                                    "1": "",
                                    "2": "",
                                    "3": "4",
                                    "4": "Perpetual"
                                },
                                {
                                    "0": "trevor@trumpi.co.za",
                                    "1": "",
                                    "2": "",
                                    "3": "1",
                                    "4": "Perpetual"
                                },
                                {
                                    "0": "finnnk@gmail.com",
                                    "1": "",
                                    "2": "",
                                    "3": "4",
                                    "4": "Perpetual"
                                },
                                {
                                    "0": "kostak@broadcom.com",
                                    "1": "Konstantin",
                                    "2": "Kraimer",
                                    "3": "1",
                                    "4": "Perpetual"
                                },
                                {
                                    "0": "gael@postsharp.net",
                                    "1": "Gael",
                                    "2": "Fraiteur",
                                    "3": "1",
                                    "4": "Perpetual"
                                },
                                {
                                    "0": "mbisaillon@genetec.com",
                                    "1": "",
                                    "2": "",
                                    "3": "20",
                                    "4": "Perpetual"
                                },
                                {
                                    "0": "development@greatbigsolutions.com",
                                    "1": "Kathryn",
                                    "2": "Fraser",
                                    "3": "5",
                                    "4": "Perpetual"
                                },
                                {
                                    "0": "tvexiau@slb.com",
                                    "1": "thibault",
                                    "2": "Vexiau",
                                    "3": "2",
                                    "4": "Perpetual"
                                },
                                {
                                    "0": "andreas.morch@elektrasoft.de",
                                    "1": "Andreas",
                                    "2": "Morch",
                                    "3": "1",
                                    "4": "Perpetual"
                                },
                                {
                                    "0": "rgu@templafy.com",
                                    "1": "René",
                                    "2": "Gundersen",
                                    "3": "2",
                                    "4": "Limited by year"
                                },
                                {
                                    "0": "software@skyliner.nl",
                                    "1": "Roy",
                                    "2": "van Manen",
                                    "3": "3",
                                    "4": "Perpetual"
                                },
                                {
                                    "0": "jason@ebev.com",
                                    "1": "Jason",
                                    "2": "Deacon",
                                    "3": "1",
                                    "4": "Limited by month"
                                },
                                {
                                    "0": "invoice@ncsoft.com",
                                    "1": "jeongin",
                                    "2": "kim",
                                    "3": "2",
                                    "4": "Perpetual"
                                },
                                {
                                    "0": "yngverindal@gmail.com",
                                    "1": "",
                                    "2": "",
                                    "3": "1",
                                    "4": "Perpetual"
                                },
                                {
                                    "0": "mark@wintemper.com",
                                    "1": "mark",
                                    "2": "wilkes",
                                    "3": "1",
                                    "4": "Perpetual"
                                },
                                {
                                    "0": "mightymuke@gmail.com",
                                    "1": "Marcus",
                                    "2": "Bristol",
                                    "3": "3",
                                    "4": "Perpetual"
                                },
                                {
                                    "0": "yourstress@gmail.com",
                                    "1": "Mansour",
                                    "2": "Alsarraf",
                                    "3": "1",
                                    "4": "Perpetual"
                                },
                                {
                                    "0": "michael@mquandt.com",
                                    "1": "Michael",
                                    "2": "Quandt",
                                    "3": "1",
                                    "4": "Perpetual"
                                },
                                {
                                    "0": "josemalorivera@gmail.com",
                                    "1": "",
                                    "2": "",
                                    "3": "1",
                                    "4": "Perpetual"
                                },
                                {
                                    "0": "len.vanerstrom@ncr.com",
                                    "1": "",
                                    "2": "",
                                    "3": "1",
                                    "4": "Perpetual"
                                },
                                {
                                    "0": "saulius.babilius@vic.lt",
                                    "1": "Saulius",
                                    "2": "Babilius",
                                    "3": "1",
                                    "4": "Perpetual"
                                },
                                {
                                    "0": "rdealmeida@maxeler.com",
                                    "1": "Rui",
                                    "2": "Almeida",
                                    "3": "1",
                                    "4": "Perpetual"
                                },
                                {
                                    "0": "steven.stangle@gd-ms.com",
                                    "1": "Steven",
                                    "2": "Stangle",
                                    "3": "1",
                                    "4": "Perpetual"
                                },
                                {
                                    "0": "sylvain.brunet@cpu.ca",
                                    "1": "Sylvain",
                                    "2": "Brunet",
                                    "3": "1",
                                    "4": "Perpetual"
                                },
                                {
                                    "0": "zapman@z-meta.com",
                                    "1": "Michael",
                                    "2": "Zappe",
                                    "3": "1",
                                    "4": "Perpetual"
                                },
                                {
                                    "0": "sunny@vmmsconsulting.com",
                                    "1": "Svetoslav",
                                    "2": "Milenov",
                                    "3": "2",
                                    "4": "Perpetual"
                                },
                                {
                                    "0": "christian@infront-x.com",
                                    "1": "Christian",
                                    "2": "Rygg",
                                    "3": "1",
                                    "4": "Perpetual"
                                },
                                {
                                    "0": "itadmin@kcd.co.kr",
                                    "1": "IT",
                                    "2": "ADMIN",
                                    "3": "1",
                                    "4": "Perpetual"
                                },
                                {
                                    "0": "jg@ajoursystem.dk",
                                    "1": "Jakob",
                                    "2": "Gaardsted",
                                    "3": "1",
                                    "4": "Limited by year"
                                },
                                {
                                    "0": "firedfly@gmail.com",
                                    "1": "Stephen",
                                    "2": "Gordon",
                                    "3": "1",
                                    "4": "Limited by year"
                                },
                                {
                                    "0": "nathanael.jones@gmail.com",
                                    "1": "",
                                    "2": "",
                                    "3": "2",
                                    "4": "Perpetual"
                                },
                                {
                                    "0": "bagukiri@gmail.com",
                                    "1": "Rodney",
                                    "2": "Relosa",
                                    "3": "1",
                                    "4": "Perpetual"
                                },
                                {
                                    "0": "david@stabbylambda.com",
                                    "1": "David",
                                    "2": "Stone",
                                    "3": "1",
                                    "4": "Perpetual"
                                },
                                {
                                    "0": "andrew@abtsoftware.co.uk",
                                    "1": "",
                                    "2": "",
                                    "3": "3",
                                    "4": "Perpetual"
                                },
                                {
                                    "0": "chaitanya.gurrapu@gmail.com",
                                    "1": "",
                                    "2": "",
                                    "3": "4",
                                    "4": "Perpetual"
                                },
                                {
                                    "0": "domains@itmystix.com",
                                    "1": "Manish",
                                    "2": "Kungwani",
                                    "3": "1",
                                    "4": "Perpetual"
                                },
                                {
                                    "0": "jonathankuleff@gmail.com",
                                    "1": "",
                                    "2": "",
                                    "3": "6",
                                    "4": "Perpetual"
                                },
                                {
                                    "0": "bob@minnrestate.com",
                                    "1": "Robert",
                                    "2": "Fury",
                                    "3": "4",
                                    "4": "Perpetual"
                                },
                                {
                                    "0": "developers@ionoco.com",
                                    "1": "",
                                    "2": "",
                                    "3": "10",
                                    "4": "Perpetual"
                                },
                                {
                                    "0": "Georgi.Slavov@apextoolgroup.com",
                                    "1": "Georgi",
                                    "2": "Slavov",
                                    "3": "10",
                                    "4": "Perpetual"
                                },
                                {
                                    "0": "Thomas.vonTrzebiatowski@khs.com",
                                    "1": "Thomas",
                                    "2": "von Trzebiatowski",
                                    "3": "3",
                                    "4": "Limited by date"
                                },
                                {
                                    "0": "ITTeamSLAM@quickenloans.com",
                                    "1": "Software",
                                    "2": "Licensing",
                                    "3": "10",
                                    "4": "Perpetual"
                                },
                                {
                                    "0": "christian.berberich@brand.de",
                                    "1": "Christian",
                                    "2": "Berberich",
                                    "3": "6",
                                    "4": "Perpetual"
                                },
                                {
                                    "0": "freaksed@gmail.com",
                                    "1": "Benjamin",
                                    "2": "Vaccaro",
                                    "3": "2",
                                    "4": "Limited by year"
                                },
                                {
                                    "0": "sshaw@decriptor.com",
                                    "1": "Stephen",
                                    "2": "Shaw",
                                    "3": "1",
                                    "4": "Perpetual"
                                },
                                {
                                    "0": "dawid.cieszynski@crystalcode.pl",
                                    "1": "Dawid",
                                    "2": "Cieszynski",
                                    "3": "7",
                                    "4": "Perpetual"
                                },
                                {
                                    "0": "martin.torney@sciencesoft.com",
                                    "1": "Martin",
                                    "2": "Torney",
                                    "3": "2",
                                    "4": "Perpetual"
                                },
                                {
                                    "0": "brendanjerwin@gmail.com",
                                    "1": "Brendan",
                                    "2": "Erwin",
                                    "3": "1",
                                    "4": "Perpetual"
                                },
                                {
                                    "0": "meebey@gmail.com",
                                    "1": "",
                                    "2": "",
                                    "3": "1",
                                    "4": "Perpetual"
                                },
                                {
                                    "0": "jamie@widernets.com",
                                    "1": "James",
                                    "2": "Fraser",
                                    "3": "3",
                                    "4": "Perpetual"
                                },
                                {
                                    "0": "msumerano@gmail.com",
                                    "1": "Michael",
                                    "2": "Sumerano",
                                    "3": "1",
                                    "4": "Perpetual"
                                },
                                {
                                    "0": "andrew@abtsoftware.co.uk",
                                    "1": "",
                                    "2": "",
                                    "3": "4",
                                    "4": "Limited by year"
                                },
                                {
                                    "0": "it.norway@vizrt.com",
                                    "1": "",
                                    "2": "",
                                    "3": "2",
                                    "4": "Perpetual"
                                },
                                {
                                    "0": "license.purchase@pacom.com",
                                    "1": "",
                                    "2": "",
                                    "3": "1",
                                    "4": "Perpetual"
                                },
                                {
                                    "0": "udo.riedel@centertools.de",
                                    "1": "",
                                    "2": "",
                                    "3": "1",
                                    "4": "Perpetual"
                                },
                                {
                                    "0": "sean@thefergies.net",
                                    "1": "",
                                    "2": "",
                                    "3": "1",
                                    "4": "Perpetual"
                                },
                                {
                                    "0": "msmialek@gmail.com",
                                    "1": "",
                                    "2": "",
                                    "3": "5",
                                    "4": "Perpetual"
                                },
                                {
                                    "0": "hranac.jakub@gmail.com",
                                    "1": "",
                                    "2": "",
                                    "3": "2",
                                    "4": "Limited by year"
                                },
                                {
                                    "0": "beat.kurmann@bk-solution.ch",
                                    "1": "",
                                    "2": "",
                                    "3": "10",
                                    "4": "Perpetual"
                                },
                                {
                                    "0": "sebastienc@eostar.com",
                                    "1": "",
                                    "2": "",
                                    "3": "1",
                                    "4": "Perpetual"
                                },
                                {
                                    "0": "purchasing@veyo.com",
                                    "1": "Kristen",
                                    "2": "Jourdonais",
                                    "3": "1",
                                    "4": "Perpetual"
                                },
                                {
                                    "0": "daniel.borgmann@gmail.com",
                                    "1": "Daniel",
                                    "2": "Borgmann",
                                    "3": "1",
                                    "4": "Limited by month"
                                },
                                {
                                    "0": "timothy@landorphan.com",
                                    "1": "Timothy",
                                    "2": "Stockstill",
                                    "3": "1",
                                    "4": "Limited by year"
                                },
                                {
                                    "0": "andreas@stenlundsdata.se",
                                    "1": "Andreas",
                                    "2": "Stenlund",
                                    "3": "2",
                                    "4": "Limited by year"
                                },
                                {
                                    "0": "iain.strachan@amorgroup.com",
                                    "1": "Iain",
                                    "2": "Strachan",
                                    "3": "2",
                                    "4": "Perpetual"
                                },
                                {
                                    "0": "soniiic@outlook.com",
                                    "1": "Daniel",
                                    "2": "Cooper",
                                    "3": "1",
                                    "4": "Perpetual"
                                },
                                {
                                    "0": "iqueiroz.go@gmail.com",
                                    "1": "",
                                    "2": "",
                                    "3": "1",
                                    "4": "Perpetual"
                                },
                                {
                                    "0": "joar.oyen@joaroyen.com",
                                    "1": "",
                                    "2": "",
                                    "3": "2",
                                    "4": "Perpetual"
                                },
                                {
                                    "0": "bblanchard@acadian.com",
                                    "1": "",
                                    "2": "",
                                    "3": "12",
                                    "4": "Perpetual"
                                },
                                {
                                    "0": "will.barr@outlook.com",
                                    "1": "",
                                    "2": "",
                                    "3": "1",
                                    "4": "Perpetual"
                                },
                                {
                                    "0": "schalpat@schaeffler.com",
                                    "1": "Patrick",
                                    "2": "Schaller",
                                    "3": "1",
                                    "4": "Perpetual"
                                },
                                {
                                    "0": "rene.peuser@hotmail.de",
                                    "1": "",
                                    "2": "",
                                    "3": "1",
                                    "4": "Limited by date"
                                },
                                {
                                    "0": "SergVro@gmail.com",
                                    "1": "Sergii",
                                    "2": "Vorushylo",
                                    "3": "1",
                                    "4": "Limited by year"
                                },
                                {
                                    "0": "dirk.maegh@gmail.com",
                                    "1": "",
                                    "2": "",
                                    "3": "1",
                                    "4": "Perpetual"
                                },
                                {
                                    "0": "martin.haslinger@umdasch.com",
                                    "1": "",
                                    "2": "",
                                    "3": "3",
                                    "4": "Perpetual"
                                },
                                {
                                    "0": "mark.nelson@intrado.com",
                                    "1": "West+Safety+Services+Inc.",
                                    "2": "NA",
                                    "3": "5",
                                    "4": "Perpetual"
                                },
                                {
                                    "0": "lucas@krammesnet.com",
                                    "1": "",
                                    "2": "",
                                    "3": "8",
                                    "4": "Perpetual"
                                },
                                {
                                    "0": "darryl.smith@ncr.com",
                                    "1": "Darryl",
                                    "2": "Smith",
                                    "3": "1",
                                    "4": "Perpetual"
                                },
                                {
                                    "0": "i.schaefer@dial.de",
                                    "1": "Sven",
                                    "2": "Pawlowski",
                                    "3": "3",
                                    "4": "Perpetual"
                                },
                                {
                                    "0": "bbuchanan@co.shasta.ca.us",
                                    "1": "Brandon",
                                    "2": "Buchanan",
                                    "3": "4",
                                    "4": "Perpetual"
                                },
                                {
                                    "0": "brenton.mcsweyn@gmail.com",
                                    "1": "Brenton",
                                    "2": "McSweyn",
                                    "3": "1",
                                    "4": "Perpetual"
                                },
                                {
                                    "0": "mail.alex.lyman@gmail.com",
                                    "1": "",
                                    "2": "",
                                    "3": "2",
                                    "4": "Limited by month"
                                },
                                {
                                    "0": "roel.vlemmings@redblacksoftware.com",
                                    "1": "Roel",
                                    "2": "Vlemmings",
                                    "3": "4",
                                    "4": "Perpetual"
                                },
                                {
                                    "0": "cf.rosen@gmail.com",
                                    "1": "",
                                    "2": "",
                                    "3": "3",
                                    "4": "Perpetual"
                                },
                                {
                                    "0": "richard.grant@ncr.com",
                                    "1": "",
                                    "2": "",
                                    "3": "1",
                                    "4": "Perpetual"
                                },
                                {
                                    "0": "lukas@woehrl.net",
                                    "1": "",
                                    "2": "",
                                    "3": "2",
                                    "4": "Perpetual"
                                },
                                {
                                    "0": "peter@reliabware.com",
                                    "1": "",
                                    "2": "",
                                    "3": "2",
                                    "4": "Perpetual"
                                },
                                {
                                    "0": "n.hayato@jp.fujitsu.com",
                                    "1": "",
                                    "2": "",
                                    "3": "1",
                                    "4": "Perpetual"
                                },
                                {
                                    "0": "entwicklung@mitsolutions.de",
                                    "1": "",
                                    "2": "",
                                    "3": "1",
                                    "4": "Limited by year"
                                },
                                {
                                    "0": "daume.dennis@gmail.com",
                                    "1": "",
                                    "2": "",
                                    "3": "1",
                                    "4": "Perpetual"
                                },
                                {
                                    "0": "jan.selbach@siemens.com",
                                    "1": "Jan",
                                    "2": "Selbach",
                                    "3": "21",
                                    "4": "Perpetual"
                                },
                                {
                                    "0": "stephen.g.thomas@wayne.com",
                                    "1": "",
                                    "2": "",
                                    "3": "3",
                                    "4": "Perpetual"
                                },
                                {
                                    "0": "andre.kunz@icamsystems.de",
                                    "1": "",
                                    "2": "",
                                    "3": "2",
                                    "4": "Perpetual"
                                },
                                {
                                    "0": "asepulveda@qktech.com.au",
                                    "1": "Andres",
                                    "2": "Sepulveda",
                                    "3": "3",
                                    "4": "Perpetual"
                                },
                                {
                                    "0": "gedan@ganked.me",
                                    "1": "Nick",
                                    "2": "Watkinson",
                                    "3": "2",
                                    "4": "Perpetual"
                                },
                                {
                                    "0": "pablo@semanticmerge.com",
                                    "1": "pablo",
                                    "2": "santos",
                                    "3": "1",
                                    "4": "Perpetual"
                                },
                                {
                                    "0": "michael.blume@currentsystem23.de",
                                    "1": "Michael",
                                    "2": "Blume",
                                    "3": "2",
                                    "4": "Perpetual"
                                },
                                {
                                    "0": "office@flessl.at",
                                    "1": "Thomas",
                                    "2": "Fleßl",
                                    "3": "1",
                                    "4": "Perpetual"
                                },
                                {
                                    "0": "benn.herrera@pm.me",
                                    "1": "Benn",
                                    "2": "Herrera",
                                    "3": "1",
                                    "4": "Limited by year"
                                },
                                {
                                    "0": "fredericv@unity3d.com",
                                    "1": "Frédéric",
                                    "2": "Vauchelles",
                                    "3": "1",
                                    "4": "Perpetual"
                                },
                                {
                                    "0": "tom.peters@sungard.com",
                                    "1": "Tom",
                                    "2": "Peters",
                                    "3": "1",
                                    "4": "Perpetual"
                                },
                                {
                                    "0": "migueljgonz@gmail.com",
                                    "1": "Miguel",
                                    "2": "González",
                                    "3": "3",
                                    "4": "Perpetual"
                                },
                                {
                                    "0": "lucas.kaczanowski@gmail.com",
                                    "1": "",
                                    "2": "",
                                    "3": "2",
                                    "4": "Perpetual"
                                },
                                {
                                    "0": "bart@bartdemeyer.be",
                                    "1": "Bart",
                                    "2": "De Meyer",
                                    "3": "1",
                                    "4": "Perpetual"
                                },
                                {
                                    "0": "dirk.rombauts@picklesdoc.com",
                                    "1": "Dirk",
                                    "2": "Rombauts",
                                    "3": "2",
                                    "4": "Perpetual"
                                },
                                {
                                    "0": "willdhb@gmail.com",
                                    "1": "",
                                    "2": "",
                                    "3": "1",
                                    "4": "Perpetual"
                                },
                                {
                                    "0": "bradley.uffner@gmail.com",
                                    "1": "Bradley",
                                    "2": "Uffner",
                                    "3": "1",
                                    "4": "Limited by year"
                                },
                                {
                                    "0": "sdh@vertica.dk",
                                    "1": "Sune",
                                    "2": "Hansen",
                                    "3": "1",
                                    "4": "Perpetual"
                                },
                                {
                                    "0": "mikiya@adm.ne.jp",
                                    "1": "mikiya",
                                    "2": "muramatsu",
                                    "3": "2",
                                    "4": "Perpetual"
                                },
                                {
                                    "0": "airrick4@benco.com",
                                    "1": "",
                                    "2": "",
                                    "3": "1",
                                    "4": "Perpetual"
                                },
                                {
                                    "0": "james@visit-it.co.uk",
                                    "1": "",
                                    "2": "",
                                    "3": "1",
                                    "4": "Perpetual"
                                },
                                {
                                    "0": "mrtheTrain",
                                    "1": "",
                                    "2": "",
                                    "3": "1",
                                    "4": "Perpetual"
                                },
                                {
                                    "0": "simon.cropp@gmail.com",
                                    "1": "Simon",
                                    "2": "Cropp",
                                    "3": "1",
                                    "4": "Perpetual"
                                },
                                {
                                    "0": "developmentalmadness@gmail.com",
                                    "1": "",
                                    "2": "",
                                    "3": "2",
                                    "4": "Perpetual"
                                },
                                {
                                    "0": "sergey@jetbrains.com",
                                    "1": "",
                                    "2": "",
                                    "3": "1",
                                    "4": "Perpetual"
                                },
                                {
                                    "0": "saveenr@live.com",
                                    "1": "",
                                    "2": "",
                                    "3": "1",
                                    "4": "Perpetual"
                                },
                                {
                                    "0": "andreas.jaeger@bayer.com",
                                    "1": "",
                                    "2": "",
                                    "3": "2",
                                    "4": "Perpetual"
                                },
                                {
                                    "0": "swadmin-list@broadcom.com",
                                    "1": "Jen",
                                    "2": "Helton",
                                    "3": "4",
                                    "4": "Perpetual"
                                },
                                {
                                    "0": "alashcraft@gmail.com",
                                    "1": "",
                                    "2": "",
                                    "3": "1",
                                    "4": "Perpetual"
                                },
                                {
                                    "0": "soenke@schwenks.de",
                                    "1": "Soenke",
                                    "2": "Schwenk",
                                    "3": "2",
                                    "4": "Perpetual"
                                },
                                {
                                    "0": "jorge.serrano.perez@gmail.com",
                                    "1": "Jorge",
                                    "2": "Serrano Pérez",
                                    "3": "1",
                                    "4": "Perpetual"
                                },
                                {
                                    "0": "lic1@syssoft.ru",
                                    "1": "Maxim",
                                    "2": "Tikurkin",
                                    "3": "2",
                                    "4": "Perpetual"
                                },
                                {
                                    "0": "vorlontechkft@gmail.com",
                                    "1": "Gabor",
                                    "2": "Karsai",
                                    "3": "1",
                                    "4": "Limited by year"
                                },
                                {
                                    "0": "broccula@gmail.com",
                                    "1": "Lee",
                                    "2": "Hurley",
                                    "3": "1",
                                    "4": "Limited by year"
                                },
                                {
                                    "0": "bp53@ntrs.com",
                                    "1": "Bernardino",
                                    "2": "Perea",
                                    "3": "30",
                                    "4": "Perpetual"
                                },
                                {
                                    "0": "lm@viscomvisual.com",
                                    "1": "Lorenz",
                                    "2": "Malmström",
                                    "3": "5",
                                    "4": "Perpetual"
                                },
                                {
                                    "0": "andrewcarvalho@laundrybear.com",
                                    "1": "Andrew",
                                    "2": "Carvalho",
                                    "3": "1",
                                    "4": "Limited by year"
                                },
                                {
                                    "0": "michel.nadege@gmail.com",
                                    "1": "Nadege",
                                    "2": "Michel",
                                    "3": "2",
                                    "4": "Perpetual"
                                },
                                {
                                    "0": "berkus@gmail.com",
                                    "1": "Stanislav",
                                    "2": "Karchebnyy",
                                    "3": "1",
                                    "4": "Perpetual"
                                },
                                {
                                    "0": "robert.randell@exeter.ox.ac.uk",
                                    "1": "Rob",
                                    "2": "Randell",
                                    "3": "1",
                                    "4": "Perpetual"
                                },
                                {
                                    "0": "adutton@adutton.net",
                                    "1": "Andrew",
                                    "2": "Dutton",
                                    "3": "1",
                                    "4": "Limited by year"
                                },
                                {
                                    "0": "julianfeja@gmail.com",
                                    "1": "",
                                    "2": "",
                                    "3": "4",
                                    "4": "Perpetual"
                                },
                                {
                                    "0": "scott_l_smith@hotmail.com",
                                    "1": "",
                                    "2": "",
                                    "3": "1",
                                    "4": "Limited by month"
                                },
                                {
                                    "0": "colin@dabritz.org",
                                    "1": "",
                                    "2": "",
                                    "3": "1",
                                    "4": "Perpetual"
                                },
                                {
                                    "0": "wwiser@gmail.com",
                                    "1": "",
                                    "2": "",
                                    "3": "1",
                                    "4": "Perpetual"
                                },
                                {
                                    "0": "tj@vimoin.com",
                                    "1": "",
                                    "2": "",
                                    "3": "2",
                                    "4": "Perpetual"
                                },
                                {
                                    "0": "austinwagner@gmail.com",
                                    "1": "",
                                    "2": "",
                                    "3": "1",
                                    "4": "Perpetual"
                                },
                                {
                                    "0": "pat.deuster@promax.com",
                                    "1": "Robert",
                                    "2": "Deuster",
                                    "3": "5",
                                    "4": "Limited by year"
                                },
                                {
                                    "0": "atzmueller@cs.uni-kassel.de",
                                    "1": "Martin",
                                    "2": "Atzmueller",
                                    "3": "1",
                                    "4": "Perpetual"
                                },
                                {
                                    "0": "jmdorcy@gmail.com",
                                    "1": "",
                                    "2": "",
                                    "3": "1",
                                    "4": "Limited by year"
                                },
                                {
                                    "0": "miguel.ocana@gmail.com",
                                    "1": "Miguel Ángel",
                                    "2": "Ocaña Silva",
                                    "3": "1",
                                    "4": "Perpetual"
                                },
                                {
                                    "0": "tvjames@hotmail.com",
                                    "1": "T",
                                    "2": "J",
                                    "3": "1",
                                    "4": "Limited by year"
                                },
                                {
                                    "0": "oddur@klang-games.com",
                                    "1": "Oddur",
                                    "2": "Magnusson",
                                    "3": "6",
                                    "4": "Limited by year"
                                },
                                {
                                    "0": "dennis.doomen@evision-software.com",
                                    "1": "Dennis",
                                    "2": "Doomen",
                                    "3": "1",
                                    "4": "Perpetual"
                                },
                                {
                                    "0": "aleksei@guzev.pro",
                                    "1": "Aleksei",
                                    "2": "Guzev",
                                    "3": "1",
                                    "4": "Limited by month"
                                },
                                {
                                    "0": "StevenTCramer@gmail.com",
                                    "1": "Steven",
                                    "2": "Cramer",
                                    "3": "7",
                                    "4": "Perpetual"
                                },
                                {
                                    "0": "bogwahn@gmail.com",
                                    "1": "Andrew",
                                    "2": "Vogel",
                                    "3": "2",
                                    "4": "Perpetual"
                                },
                                {
                                    "0": "rask@rask.ca",
                                    "1": "Mike",
                                    "2": "Cattle",
                                    "3": "1",
                                    "4": "Perpetual"
                                },
                                {
                                    "0": "keith.pesavento@meltingtree.com",
                                    "1": "",
                                    "2": "",
                                    "3": "2",
                                    "4": "Perpetual"
                                },
                                {
                                    "0": "williamwnewton@live.com",
                                    "1": "",
                                    "2": "",
                                    "3": "5",
                                    "4": "Perpetual"
                                },
                                {
                                    "0": "smartboyathome@gmail.com",
                                    "1": "",
                                    "2": "",
                                    "3": "1",
                                    "4": "Limited by month"
                                },
                                {
                                    "0": "guenther.resch@automationx.com",
                                    "1": "Günther",
                                    "2": "Resch",
                                    "3": "6",
                                    "4": "Limited by year"
                                },
                                {
                                    "0": "rjbsmith@gmail.com",
                                    "1": "",
                                    "2": "",
                                    "3": "2",
                                    "4": "Limited by year"
                                },
                                {
                                    "0": "moore.benjamin@gmail.com",
                                    "1": "",
                                    "2": "",
                                    "3": "1",
                                    "4": "Perpetual"
                                },
                                {
                                    "0": "boonkitp@gmail.com",
                                    "1": "",
                                    "2": "",
                                    "3": "2",
                                    "4": "Perpetual"
                                },
                                {
                                    "0": "jurgen@vanderkamp.info",
                                    "1": "",
                                    "2": "",
                                    "3": "3",
                                    "4": "Perpetual"
                                },
                                {
                                    "0": "nils.beckmann@ganshorn.de",
                                    "1": "",
                                    "2": "",
                                    "3": "2",
                                    "4": "Perpetual"
                                },
                                {
                                    "0": "schaloms@msg.de",
                                    "1": "",
                                    "2": "",
                                    "3": "2",
                                    "4": "Perpetual"
                                },
                                {
                                    "0": "markd_uk@hotmail.com",
                                    "1": "",
                                    "2": "",
                                    "3": "3",
                                    "4": "Perpetual"
                                },
                                {
                                    "0": "vladimir.dudas@infor.com",
                                    "1": "Vladimir",
                                    "2": "Dudas",
                                    "3": "6",
                                    "4": "Perpetual"
                                },
                                {
                                    "0": "kbachtold@gmail.com",
                                    "1": "Kurt",
                                    "2": "Bachtold",
                                    "3": "2",
                                    "4": "Limited by year"
                                },
                                {
                                    "0": "Nikolai.Mueller@mrs-electronic.de",
                                    "1": "Nikolai",
                                    "2": "Müller",
                                    "3": "4",
                                    "4": "Perpetual"
                                },
                                {
                                    "0": "mrennie@argo.ai",
                                    "1": "Nikolaus",
                                    "2": "Wittenstein",
                                    "3": "1",
                                    "4": "Perpetual"
                                },
                                {
                                    "0": "BSouth@uk.imshealth.com",
                                    "1": "Ben",
                                    "2": "South",
                                    "3": "1",
                                    "4": "Perpetual"
                                },
                                {
                                    "0": "hilmar.voegele@siemens-logistics.com",
                                    "1": "Hilmar",
                                    "2": "Vögele",
                                    "3": "1",
                                    "4": "Limited by year"
                                },
                                {
                                    "0": "jayotterbein@gmail.com",
                                    "1": "",
                                    "2": "",
                                    "3": "2",
                                    "4": "Perpetual"
                                },
                                {
                                    "0": "jayotterbein@gmail.com",
                                    "1": "",
                                    "2": "",
                                    "3": "1",
                                    "4": "Limited by year"
                                },
                                {
                                    "0": "bartlomiej.mucha@hotmail.com",
                                    "1": "Bartlomiej",
                                    "2": "Mucha",
                                    "3": "2",
                                    "4": "Perpetual"
                                },
                                {
                                    "0": "michael@kedzierski.id.au",
                                    "1": "",
                                    "2": "",
                                    "3": "2",
                                    "4": "Perpetual"
                                },
                                {
                                    "0": "nelsonhf@gmail.com",
                                    "1": "",
                                    "2": "",
                                    "3": "3",
                                    "4": "Perpetual"
                                },
                                {
                                    "0": "ppekrol@ais.pl",
                                    "1": "Pawel",
                                    "2": "Pekról",
                                    "3": "5",
                                    "4": "Perpetual"
                                },
                                {
                                    "0": "ismailm123@gmail.com",
                                    "1": "Ismail",
                                    "2": "Mayat",
                                    "3": "1",
                                    "4": "Perpetual"
                                },
                                {
                                    "0": "jason.boyd.ce@gmail.com",
                                    "1": "",
                                    "2": "",
                                    "3": "3",
                                    "4": "Perpetual"
                                },
                                {
                                    "0": "will.barr@outlook.com",
                                    "1": "",
                                    "2": "",
                                    "3": "1",
                                    "4": "Limited by month"
                                },
                                {
                                    "0": "tscheffert@claritycon.com",
                                    "1": "",
                                    "2": "",
                                    "3": "1",
                                    "4": "Perpetual"
                                },
                                {
                                    "0": "kriti.pande@ncr.com",
                                    "1": "Kriti",
                                    "2": "Pande",
                                    "3": "1",
                                    "4": "Perpetual"
                                },
                                {
                                    "0": "centenopm@bccr.fi.cr",
                                    "1": "Marcia",
                                    "2": "Centeno Pérez",
                                    "3": "17",
                                    "4": "Perpetual"
                                },
                                {
                                    "0": "admin@fair-computer.de",
                                    "1": "FCS",
                                    "2": "Admin",
                                    "3": "1",
                                    "4": "Perpetual"
                                },
                                {
                                    "0": "arien.hartgers@soliddevelopment.nl",
                                    "1": "Ariën",
                                    "2": "Hartgers",
                                    "3": "1",
                                    "4": "Perpetual"
                                },
                                {
                                    "0": "kevin.ryan.8765@gmail.com",
                                    "1": "Kevin",
                                    "2": "Ryan",
                                    "3": "1",
                                    "4": "Limited by year"
                                },
                                {
                                    "0": "Ulrike.Schnittker@justiz.niedersachsen.de",
                                    "1": "Ulrike",
                                    "2": "Schnittker",
                                    "3": "17",
                                    "4": "Limited by year"
                                },
                                {
                                    "0": "xavier@mobius.zone",
                                    "1": "Xavier",
                                    "2": "Guillemot",
                                    "3": "1",
                                    "4": "Perpetual"
                                },
                                {
                                    "0": "stefan@camilleri.me",
                                    "1": "Stefan",
                                    "2": "Camilleri",
                                    "3": "2",
                                    "4": "Perpetual"
                                },
                                {
                                    "0": "JHorvath@MaxetaTech.com",
                                    "1": "John",
                                    "2": "Horvath",
                                    "3": "2",
                                    "4": "Perpetual"
                                },
                                {
                                    "0": "peter.randall@weblogik.co.uk",
                                    "1": "Peter",
                                    "2": "Randall",
                                    "3": "1",
                                    "4": "Perpetual"
                                },
                                {
                                    "0": "tilo.dickopp@fundtech.com",
                                    "1": "Tilo",
                                    "2": "Dickopp",
                                    "3": "1",
                                    "4": "Perpetual"
                                },
                                {
                                    "0": "matt@djmatty.com",
                                    "1": "",
                                    "2": "",
                                    "3": "7",
                                    "4": "Perpetual"
                                },
                                {
                                    "0": "pmappix@gmail.com",
                                    "1": "",
                                    "2": "",
                                    "3": "2",
                                    "4": "Perpetual"
                                },
                                {
                                    "0": "z669016@gmail.com",
                                    "1": "Rene",
                                    "2": "Putten",
                                    "3": "1",
                                    "4": "Perpetual"
                                },
                                {
                                    "0": "daniel@conatuscreative.com",
                                    "1": "",
                                    "2": "",
                                    "3": "3",
                                    "4": "Perpetual"
                                },
                                {
                                    "0": "daniel@stockhammer.it",
                                    "1": "Daniel",
                                    "2": "Stockhammer",
                                    "3": "2",
                                    "4": "Perpetual"
                                },
                                {
                                    "0": "nsinreal@gmail.com",
                                    "1": "Viktor",
                                    "2": "Lova",
                                    "3": "1",
                                    "4": "Perpetual"
                                },
                                {
                                    "0": "u.bader@ub-software.de",
                                    "1": "",
                                    "2": "",
                                    "3": "7",
                                    "4": "Perpetual"
                                },
                                {
                                    "0": "mikelawton@daprosystems.com",
                                    "1": "",
                                    "2": "",
                                    "3": "3",
                                    "4": "Perpetual"
                                },
                                {
                                    "0": "jrusbatch@gmail.com",
                                    "1": "Justin",
                                    "2": "Rusbatch",
                                    "3": "1",
                                    "4": "Perpetual"
                                },
                                {
                                    "0": "mike@byteflurry.com",
                                    "1": "",
                                    "2": "",
                                    "3": "1",
                                    "4": "Perpetual"
                                },
                                {
                                    "0": "itamar@code972.com",
                                    "1": "",
                                    "2": "",
                                    "3": "1",
                                    "4": "Perpetual"
                                },
                                {
                                    "0": "mail@batronix.com",
                                    "1": "",
                                    "2": "",
                                    "3": "1",
                                    "4": "Perpetual"
                                },
                                {
                                    "0": "stephane.jeffrey@gmail.com",
                                    "1": "",
                                    "2": "",
                                    "3": "1",
                                    "4": "Perpetual"
                                },
                                {
                                    "0": "gavin_hinchley@mitel.com",
                                    "1": "",
                                    "2": "",
                                    "3": "1",
                                    "4": "Perpetual"
                                },
                                {
                                    "0": "russ.cam@forloop.co.uk",
                                    "1": "",
                                    "2": "",
                                    "3": "6",
                                    "4": "Perpetual"
                                },
                                {
                                    "0": "marcin.krasniewski@pkobp.pl",
                                    "1": "Marcin",
                                    "2": "Krasniewski",
                                    "3": "10",
                                    "4": "Perpetual"
                                },
                                {
                                    "0": "netmazy@o2.pl",
                                    "1": "Michal",
                                    "2": "M",
                                    "3": "1",
                                    "4": "Limited by year"
                                },
                                {
                                    "0": "wojciech.majda@motorolasolutions.com",
                                    "1": "Wojciech",
                                    "2": "Majda",
                                    "3": "12",
                                    "4": "Perpetual"
                                },
                                {
                                    "0": "mark.brown8790@gmail.com",
                                    "1": "Mark",
                                    "2": "Brown",
                                    "3": "3",
                                    "4": "Limited by year"
                                },
                                {
                                    "0": "6537537@gmail.com",
                                    "1": "Roman",
                                    "2": "Evseev",
                                    "3": "2",
                                    "4": "Perpetual"
                                },
                                {
                                    "0": "thomas_dr@yahoo.com",
                                    "1": "Don",
                                    "2": "Thomas",
                                    "3": "2",
                                    "4": "Perpetual"
                                },
                                {
                                    "0": "mark.broadhurst@gmail.com",
                                    "1": "",
                                    "2": "",
                                    "3": "5",
                                    "4": "Perpetual"
                                },
                                {
                                    "0": "jeremiah.gowdy@freedomvoice.com",
                                    "1": "Jeremiah",
                                    "2": "Gowdy",
                                    "3": "1",
                                    "4": "Perpetual"
                                },
                                {
                                    "0": "Richardsonke@gmail.com",
                                    "1": "Keith",
                                    "2": "Richardson",
                                    "3": "2",
                                    "4": "Perpetual"
                                },
                                {
                                    "0": "tobiasoort@gmail.com",
                                    "1": "Tobias",
                                    "2": "Oort",
                                    "3": "2",
                                    "4": "Limited by month"
                                },
                                {
                                    "0": "yuriykagan@gmail.com",
                                    "1": "Yuriy",
                                    "2": "Kagan",
                                    "3": "1",
                                    "4": "Limited by month"
                                },
                                {
                                    "0": "ed@ejb.name",
                                    "1": "",
                                    "2": "",
                                    "3": "2",
                                    "4": "Perpetual"
                                },
                                {
                                    "0": "lao@thedivineforums.com",
                                    "1": "",
                                    "2": "",
                                    "3": "3",
                                    "4": "Limited by year"
                                },
                                {
                                    "0": "david@play.net",
                                    "1": "David",
                                    "2": "Whatley",
                                    "3": "1",
                                    "4": "Perpetual"
                                },
                                {
                                    "0": "epa@oc.com",
                                    "1": "Eric",
                                    "2": "Armstrong",
                                    "3": "15",
                                    "4": "Perpetual"
                                },
                                {
                                    "0": "claudia.starke-regul@anton-paar.com",
                                    "1": "",
                                    "2": "",
                                    "3": "3",
                                    "4": "Perpetual"
                                },
                                {
                                    "0": "ralf_welt@agilent.com",
                                    "1": "",
                                    "2": "",
                                    "3": "4",
                                    "4": "Perpetual"
                                },
                                {
                                    "0": "philippe.tremblay@elapsetech.com",
                                    "1": "",
                                    "2": "",
                                    "3": "5",
                                    "4": "Perpetual"
                                },
                                {
                                    "0": "james@code-consultants.co.uk",
                                    "1": "",
                                    "2": "",
                                    "3": "3",
                                    "4": "Limited by month"
                                },
                                {
                                    "0": "mbarriosc@codicesoftware.com",
                                    "1": "María",
                                    "2": "Barrios",
                                    "3": "4",
                                    "4": "Perpetual"
                                },
                                {
                                    "0": "olivier.cinquin@uci.edu",
                                    "1": "Olivier",
                                    "2": "NULL",
                                    "3": "1",
                                    "4": "Perpetual"
                                },
                                {
                                    "0": "levi.e.dettwyler@intel.com",
                                    "1": "Levi",
                                    "2": "Dettwyler",
                                    "3": "1",
                                    "4": "Perpetual"
                                },
                                {
                                    "0": "andreas.schneider@mfa-informatik.ch",
                                    "1": "Andreas",
                                    "2": "Schneider",
                                    "3": "1",
                                    "4": "Limited by date"
                                },
                                {
                                    "0": "jgscherber@gmail.com",
                                    "1": "Jacob",
                                    "2": "Scherber",
                                    "3": "1",
                                    "4": "Limited by month"
                                },
                                {
                                    "0": "thomas.eyde@gmail.com",
                                    "1": "Thomas",
                                    "2": "Eyde",
                                    "3": "2",
                                    "4": "Limited by year"
                                },
                                {
                                    "0": "JesterSks@gmail.com",
                                    "1": "Robert",
                                    "2": "Burghart",
                                    "3": "1",
                                    "4": "Limited by year"
                                },
                                {
                                    "0": "bfury@verifiedcredentials.com",
                                    "1": "Robert",
                                    "2": "Fury",
                                    "3": "4",
                                    "4": "Perpetual"
                                },
                                {
                                    "0": "knutaldrin@gmail.com",
                                    "1": "Knut",
                                    "2": "Wikström",
                                    "3": "1",
                                    "4": "Perpetual"
                                },
                                {
                                    "0": "m.schleipen@just-intelligence.de",
                                    "1": "Markus",
                                    "2": "Schleipen",
                                    "3": "4",
                                    "4": "Perpetual"
                                },
                                {
                                    "0": "steve@v-learningsolutions.com",
                                    "1": "Steve",
                                    "2": "Mansell",
                                    "3": "2",
                                    "4": "Limited by year"
                                },
                                {
                                    "0": "christopher.spencer@sea.co.uk",
                                    "1": "Chris",
                                    "2": "Spencer",
                                    "3": "1",
                                    "4": "Perpetual"
                                },
                                {
                                    "0": "layoric@gmail.com",
                                    "1": "",
                                    "2": "",
                                    "3": "2",
                                    "4": "Perpetual"
                                },
                                {
                                    "0": "joerg.benndorf@t-online.de",
                                    "1": "Joerg",
                                    "2": "Benndorf",
                                    "3": "2",
                                    "4": "Perpetual"
                                },
                                {
                                    "0": "nick@oceanavenue.com",
                                    "1": "Nick",
                                    "2": "Murdock",
                                    "3": "1",
                                    "4": "Perpetual"
                                },
                                {
                                    "0": "engage@engagesoftware.com",
                                    "1": "",
                                    "2": "",
                                    "3": "18",
                                    "4": "Perpetual"
                                },
                                {
                                    "0": "robhughes@gmail.com",
                                    "1": "",
                                    "2": "",
                                    "3": "1",
                                    "4": "Perpetual"
                                },
                                {
                                    "0": "paul.darmos@myob.com",
                                    "1": "",
                                    "2": "",
                                    "3": "2",
                                    "4": "Perpetual"
                                },
                                {
                                    "0": "matthew@mercuryit.co.uk",
                                    "1": "",
                                    "2": "",
                                    "3": "3",
                                    "4": "Perpetual"
                                },
                                {
                                    "0": "semanticmerge@analogcoast.com",
                                    "1": "",
                                    "2": "",
                                    "3": "1",
                                    "4": "Perpetual"
                                },
                                {
                                    "0": "auinger@ngs.at",
                                    "1": "",
                                    "2": "",
                                    "3": "11",
                                    "4": "Perpetual"
                                },
                                {
                                    "0": "steve.westergaard@gmail.com",
                                    "1": "",
                                    "2": "",
                                    "3": "1",
                                    "4": "Perpetual"
                                },
                                {
                                    "0": "mazina@umich.edu",
                                    "1": "",
                                    "2": "",
                                    "3": "1",
                                    "4": "Perpetual"
                                },
                                {
                                    "0": "chris.seed@gmail.com",
                                    "1": "",
                                    "2": "",
                                    "3": "3",
                                    "4": "Perpetual"
                                },
                                {
                                    "0": "softwarelizenzen@kuka-roboter.de",
                                    "1": "Software",
                                    "2": "Lizenzen",
                                    "3": "5",
                                    "4": "Limited by date"
                                },
                                {
                                    "0": "anthony@codemonkey256.com",
                                    "1": "Anthony",
                                    "2": "Buchanan",
                                    "3": "2",
                                    "4": "Perpetual"
                                },
                                {
                                    "0": "Cboutiette@shelltechworks.com",
                                    "1": "Chris",
                                    "2": "Boutiette",
                                    "3": "5",
                                    "4": "Perpetual"
                                },
                                {
                                    "0": "huw.jenkins@rapidsoftwareconsultancy.com",
                                    "1": "Huw",
                                    "2": "Jenkins",
                                    "3": "1",
                                    "4": "Limited by year"
                                },
                                {
                                    "0": "f.frasch@blum-novotest.com",
                                    "1": "Fabian",
                                    "2": "Frasch",
                                    "3": "1",
                                    "4": "Perpetual"
                                },
                                {
                                    "0": "tina.joshua@pexmain.com",
                                    "1": "Tina",
                                    "2": "Joshua",
                                    "3": "32",
                                    "4": "Perpetual"
                                },
                                {
                                    "0": "chris.sam55@gmail.com",
                                    "1": "Chris",
                                    "2": "Samuelson",
                                    "3": "1",
                                    "4": "Perpetual"
                                },
                                {
                                    "0": "carole.camozzi@natixis.com",
                                    "1": "Carole",
                                    "2": "Camozzi",
                                    "3": "1",
                                    "4": "Limited by date"
                                },
                                {
                                    "0": "szymon@devid.pl",
                                    "1": "",
                                    "2": "",
                                    "3": "2",
                                    "4": "Perpetual"
                                },
                                {
                                    "0": "kimworking@gmail.com",
                                    "1": "Kim",
                                    "2": "Christensen",
                                    "3": "1",
                                    "4": "Perpetual"
                                },
                                {
                                    "0": "nestalk@gmail.com",
                                    "1": "",
                                    "2": "",
                                    "3": "1",
                                    "4": "Limited by year"
                                },
                                {
                                    "0": "junkdogAP",
                                    "1": "",
                                    "2": "",
                                    "3": "1",
                                    "4": "Perpetual"
                                },
                                {
                                    "0": "stefan.stolz@awin-software.de",
                                    "1": "Stefan",
                                    "2": "Stolz",
                                    "3": "2",
                                    "4": "Perpetual"
                                },
                                {
                                    "0": "rhodes.brad@gmail.com",
                                    "1": "Brad",
                                    "2": "Rhodes",
                                    "3": "2",
                                    "4": "Perpetual"
                                },
                                {
                                    "0": "rerdies@eagleandshepherd.net",
                                    "1": "",
                                    "2": "",
                                    "3": "2",
                                    "4": "Perpetual"
                                },
                                {
                                    "0": "cebbert@cachetfinancial.com",
                                    "1": "",
                                    "2": "",
                                    "3": "9",
                                    "4": "Perpetual"
                                },
                                {
                                    "0": "vallance.charles@gmail.com",
                                    "1": "",
                                    "2": "",
                                    "3": "3",
                                    "4": "Perpetual"
                                },
                                {
                                    "0": "paul.martin4@ncr.com",
                                    "1": "",
                                    "2": "",
                                    "3": "1",
                                    "4": "Perpetual"
                                },
                                {
                                    "0": "karl23@gmail.com",
                                    "1": "",
                                    "2": "",
                                    "3": "2",
                                    "4": "Perpetual"
                                },
                                {
                                    "0": "pdavis@flightdocs.com",
                                    "1": "",
                                    "2": "",
                                    "3": "1",
                                    "4": "Perpetual"
                                },
                                {
                                    "0": "chris@tuesdaybegins.com",
                                    "1": "",
                                    "2": "",
                                    "3": "1",
                                    "4": "Perpetual"
                                },
                                {
                                    "0": "rene.peuser@hotmail.de",
                                    "1": "",
                                    "2": "",
                                    "3": "1",
                                    "4": "Perpetual"
                                },
                                {
                                    "0": "liang.luo@hella.com",
                                    "1": "",
                                    "2": "",
                                    "3": "1",
                                    "4": "Perpetual"
                                },
                                {
                                    "0": "development@promax.com",
                                    "1": "Jess",
                                    "2": "Hartmann",
                                    "3": "2",
                                    "4": "Perpetual"
                                },
                                {
                                    "0": "cr.snelgrove@gmail.com",
                                    "1": "",
                                    "2": "",
                                    "3": "1",
                                    "4": "Perpetual"
                                },
                                {
                                    "0": "bastianmoldenhauer@web.de",
                                    "1": "",
                                    "2": "",
                                    "3": "3",
                                    "4": "Perpetual"
                                },
                                {
                                    "0": "tbedore@air-worldwide.com",
                                    "1": "Tanya",
                                    "2": "Bedore",
                                    "3": "1",
                                    "4": "Perpetual"
                                },
                                {
                                    "0": "bsrinivasan@b2wsoftware.com",
                                    "1": "Bihari",
                                    "2": "Srinivasan",
                                    "3": "1",
                                    "4": "Perpetual"
                                },
                                {
                                    "0": "rolf.haken@hs-st.de",
                                    "1": "Rolf",
                                    "2": "Haken",
                                    "3": "1",
                                    "4": "Perpetual"
                                },
                                {
                                    "0": "admin-annecy@ubisoft.fr",
                                    "1": "Ubisoft",
                                    "2": "Annecy",
                                    "3": "2",
                                    "4": "Perpetual"
                                },
                                {
                                    "0": "a-mori@aist.go.jp",
                                    "1": "Akira",
                                    "2": "Mori",
                                    "3": "1",
                                    "4": "Perpetual"
                                },
                                {
                                    "0": "apereira@clinicalplus.ca",
                                    "1": "Arun",
                                    "2": "Pereira",
                                    "3": "1",
                                    "4": "Limited by year"
                                },
                                {
                                    "0": "providermanagement@rubicon.eu",
                                    "1": "Peter",
                                    "2": "Grassnigg",
                                    "3": "2",
                                    "4": "Perpetual"
                                },
                                {
                                    "0": "kcdsoftware@kcd.co.kr",
                                    "1": "korea",
                                    "2": "creditdata",
                                    "3": "2",
                                    "4": "Perpetual"
                                },
                                {
                                    "0": "fgeo@hotmail.com",
                                    "1": "Florian",
                                    "2": "George",
                                    "3": "1",
                                    "4": "Perpetual"
                                },
                                {
                                    "0": "anuarsalimdelrio@gmail.com",
                                    "1": "Anuar",
                                    "2": "Salim del Rio",
                                    "3": "3",
                                    "4": "Perpetual"
                                },
                                {
                                    "0": "g.j.murphy@sageserpent.com",
                                    "1": "Gerard",
                                    "2": "Murphy",
                                    "3": "2",
                                    "4": "Perpetual"
                                },
                                {
                                    "0": "angel.escobedo@live.com",
                                    "1": "",
                                    "2": "",
                                    "3": "2",
                                    "4": "Perpetual"
                                },
                                {
                                    "0": "jrhutch@gmail.com",
                                    "1": "Jeremy",
                                    "2": "Hutchinson",
                                    "3": "1",
                                    "4": "Perpetual"
                                },
                                {
                                    "0": "marcinwolicki@gmail.com",
                                    "1": "",
                                    "2": "",
                                    "3": "2",
                                    "4": "Perpetual"
                                },
                                {
                                    "0": "demyte@gmail.com",
                                    "1": "",
                                    "2": "",
                                    "3": "2",
                                    "4": "Limited by year"
                                },
                                {
                                    "0": "teunsegers@qwyrx.com",
                                    "1": "",
                                    "2": "",
                                    "3": "2",
                                    "4": "Perpetual"
                                },
                                {
                                    "0": "carey.bishop@gmail.com",
                                    "1": "Carey",
                                    "2": "Bishop",
                                    "3": "5",
                                    "4": "Perpetual"
                                },
                                {
                                    "0": "amcdonald@frontporch.com",
                                    "1": "",
                                    "2": "",
                                    "3": "6",
                                    "4": "Perpetual"
                                },
                                {
                                    "0": "ksenkevich@surroundtech.com",
                                    "1": "",
                                    "2": "",
                                    "3": "2",
                                    "4": "Perpetual"
                                },
                                {
                                    "0": "andreas.ohlund@particular.net",
                                    "1": "Andreas",
                                    "2": "Öhlund",
                                    "3": "1",
                                    "4": "Perpetual"
                                },
                                {
                                    "0": "matthew@ledgerscope.com",
                                    "1": "Matthew",
                                    "2": "Steeples",
                                    "3": "6",
                                    "4": "Perpetual"
                                },
                                {
                                    "0": "brennen.bukovics@ncr.com",
                                    "1": "Brennen",
                                    "2": "Bukovics",
                                    "3": "1",
                                    "4": "Perpetual"
                                },
                                {
                                    "0": "fernell@o2.pl",
                                    "1": "",
                                    "2": "",
                                    "3": "4",
                                    "4": "Perpetual"
                                },
                                {
                                    "0": "afinzel@gmail.com",
                                    "1": "",
                                    "2": "",
                                    "3": "1",
                                    "4": "Perpetual"
                                },
                                {
                                    "0": "sc185227@ncr.com",
                                    "1": "",
                                    "2": "",
                                    "3": "1",
                                    "4": "Perpetual"
                                },
                                {
                                    "0": "bob@pqsystems.com",
                                    "1": "",
                                    "2": "",
                                    "3": "3",
                                    "4": "Perpetual"
                                },
                                {
                                    "0": "peter.shrosbree@gmail.com",
                                    "1": "",
                                    "2": "",
                                    "3": "4",
                                    "4": "Perpetual"
                                },
                                {
                                    "0": "MElkammar@invensense.com",
                                    "1": "Mohamed",
                                    "2": "Elkammar",
                                    "3": "1",
                                    "4": "Perpetual"
                                },
                                {
                                    "0": "ahumphrey@genetec.com",
                                    "1": "Andrew",
                                    "2": "Humphrey",
                                    "3": "1",
                                    "4": "Perpetual"
                                },
                                {
                                    "0": "han.vermolen@itfoundry.nl",
                                    "1": "Han",
                                    "2": "Vermolen",
                                    "3": "2",
                                    "4": "Limited by year"
                                },
                                {
                                    "0": "brice@mentalwarp.com",
                                    "1": "Brice",
                                    "2": "Vandemoortele",
                                    "3": "2",
                                    "4": "Perpetual"
                                },
                                {
                                    "0": "it.licensing@veeam.com",
                                    "1": "Andrey",
                                    "2": "Alyukov",
                                    "3": "5",
                                    "4": "Limited by year"
                                },
                                {
                                    "0": "maria.vonfoerster@rightrez.com",
                                    "1": "MARIA",
                                    "2": "VONFOERSTER",
                                    "3": "2",
                                    "4": "Limited by year"
                                },
                                {
                                    "0": "dnm@pobox.com",
                                    "1": "Daniel",
                                    "2": "Moniz",
                                    "3": "3",
                                    "4": "Perpetual"
                                },
                                {
                                    "0": "info@ilogixx.de",
                                    "1": "Christian",
                                    "2": "Becker",
                                    "3": "9",
                                    "4": "Perpetual"
                                },
                                {
                                    "0": "marco.ravicini@gmail.com",
                                    "1": "Marco",
                                    "2": "Ravicini",
                                    "3": "6",
                                    "4": "Perpetual"
                                },
                                {
                                    "0": "eug.baranov@gmail.com",
                                    "1": "",
                                    "2": "",
                                    "3": "2",
                                    "4": "Perpetual"
                                },
                                {
                                    "0": "dennis.doomen@avivasolutions.nl",
                                    "1": "Dennis",
                                    "2": "Doomen",
                                    "3": "2",
                                    "4": "Perpetual"
                                },
                                {
                                    "0": "ben.morris@lexacom.co.uk",
                                    "1": "Ben",
                                    "2": "Morris",
                                    "3": "3",
                                    "4": "Perpetual"
                                },
                                {
                                    "0": "deadlydog@hotmail.com",
                                    "1": "Daniel",
                                    "2": "Schroeder",
                                    "3": "1",
                                    "4": "Perpetual"
                                },
                                {
                                    "0": "nicholas.hammond@parnic.co.uk",
                                    "1": "Nicholas",
                                    "2": "Hammond",
                                    "3": "1",
                                    "4": "Perpetual"
                                },
                                {
                                    "0": "j.koenderink@voortman.net",
                                    "1": "",
                                    "2": "",
                                    "3": "2",
                                    "4": "Perpetual"
                                },
                                {
                                    "0": "ddcruver@gmail.com",
                                    "1": "Daniel",
                                    "2": "Cruver",
                                    "3": "2",
                                    "4": "Perpetual"
                                },
                                {
                                    "0": "nigel.sampson@compiledexperience.com",
                                    "1": "Nigel",
                                    "2": "Sampson",
                                    "3": "5",
                                    "4": "Perpetual"
                                },
                                {
                                    "0": "balint.juhasz@liferay.com",
                                    "1": "Balint",
                                    "2": "Juhasz-Nyaradi",
                                    "3": "5",
                                    "4": "Perpetual"
                                },
                                {
                                    "0": "vegardlarsen",
                                    "1": "",
                                    "2": "",
                                    "3": "2",
                                    "4": "Perpetual"
                                },
                                {
                                    "0": "djkingen@gmail.com",
                                    "1": "",
                                    "2": "",
                                    "3": "4",
                                    "4": "Perpetual"
                                },
                                {
                                    "0": "mpelant@verifiedcredentials.com",
                                    "1": "",
                                    "2": "",
                                    "3": "4",
                                    "4": "Perpetual"
                                },
                                {
                                    "0": "chris@chrisowen.org",
                                    "1": "",
                                    "2": "",
                                    "3": "5",
                                    "4": "Perpetual"
                                },
                                {
                                    "0": "edgar0103sanchez@yahoo.com",
                                    "1": "",
                                    "2": "",
                                    "3": "1",
                                    "4": "Perpetual"
                                },
                                {
                                    "0": "luis_ruiz_pavon@hotmail.com",
                                    "1": "LUIS",
                                    "2": "RUIZ PAVON",
                                    "3": "1",
                                    "4": "Perpetual"
                                },
                                {
                                    "0": "kerrps@hotmail.com",
                                    "1": "Paul",
                                    "2": "Kerr",
                                    "3": "1",
                                    "4": "Perpetual"
                                },
                                {
                                    "0": "per@agitato.se",
                                    "1": "Per",
                                    "2": "Westerlund",
                                    "3": "2",
                                    "4": "Perpetual"
                                },
                                {
                                    "0": "amministrazione@netpolarissrl.it",
                                    "1": "Andrea",
                                    "2": "Rapisarda",
                                    "3": "1",
                                    "4": "Limited by year"
                                },
                                {
                                    "0": "madamission@precisioninfinity.com",
                                    "1": "Michael",
                                    "2": "Adamission",
                                    "3": "8",
                                    "4": "Perpetual"
                                },
                                {
                                    "0": "acquisti.sistemi@fraternita.it",
                                    "1": "Roberto",
                                    "2": "Rolfi",
                                    "3": "6",
                                    "4": "Limited by year"
                                },
                                {
                                    "0": "msellers@iowacomputergurus.com",
                                    "1": "MItchel",
                                    "2": "Sellers",
                                    "3": "1",
                                    "4": "Limited by year"
                                },
                                {
                                    "0": "amir@unity3d.com",
                                    "1": "Amir",
                                    "2": "Ebrahimi",
                                    "3": "1",
                                    "4": "Limited by date"
                                },
                                {
                                    "0": "andrew@hersee.com",
                                    "1": "Andrew",
                                    "2": "Hersee",
                                    "3": "5",
                                    "4": "Perpetual"
                                },
                                {
                                    "0": "daniel.schipper@cgm.com",
                                    "1": "Daniel",
                                    "2": "Schipper",
                                    "3": "20",
                                    "4": "Perpetual"
                                },
                                {
                                    "0": "b.kot@hsi.pl",
                                    "1": "Jacek",
                                    "2": "Stezala",
                                    "3": "2",
                                    "4": "Perpetual"
                                },
                                {
                                    "0": "gbpublic@outlook.com",
                                    "1": "Gautier",
                                    "2": "Boder",
                                    "3": "2",
                                    "4": "Perpetual"
                                },
                                {
                                    "0": "hofmadresu@gmail.com",
                                    "1": "",
                                    "2": "",
                                    "3": "1",
                                    "4": "Perpetual"
                                },
                                {
                                    "0": "xenoputtss@gmail.com",
                                    "1": "",
                                    "2": "",
                                    "3": "2",
                                    "4": "Perpetual"
                                },
                                {
                                    "0": "mail.alex.lyman@gmail.com",
                                    "1": "",
                                    "2": "",
                                    "3": "2",
                                    "4": "Perpetual"
                                },
                                {
                                    "0": "egor@egork.net",
                                    "1": "Egor",
                                    "2": "Kulikov",
                                    "3": "2",
                                    "4": "Perpetual"
                                },
                                {
                                    "0": "bradley.uffner@gmail.com",
                                    "1": "Bradley",
                                    "2": "Uffner",
                                    "3": "1",
                                    "4": "Perpetual"
                                },
                                {
                                    "0": "jondooger@gmail.com",
                                    "1": "Jon",
                                    "2": "Bullock",
                                    "3": "5",
                                    "4": "Perpetual"
                                },
                                {
                                    "0": "t.schmidt@dymatrix.de",
                                    "1": "",
                                    "2": "",
                                    "3": "1",
                                    "4": "Perpetual"
                                },
                                {
                                    "0": "alain.lefebvre@garvin-allen.com",
                                    "1": "Alain",
                                    "2": "Lefebvre",
                                    "3": "5",
                                    "4": "Limited by year"
                                },
                                {
                                    "0": "eldiosyeldiablo@gmail.com",
                                    "1": "",
                                    "2": "",
                                    "3": "2",
                                    "4": "Perpetual"
                                },
                                {
                                    "0": "dino@chaverware.com",
                                    "1": "",
                                    "2": "",
                                    "3": "2",
                                    "4": "Perpetual"
                                },
                                {
                                    "0": "stead2k186+semanticmerge@gmail.com",
                                    "1": "",
                                    "2": "",
                                    "3": "2",
                                    "4": "Perpetual"
                                },
                                {
                                    "0": "danstory@gmail.com",
                                    "1": "",
                                    "2": "",
                                    "3": "6",
                                    "4": "Perpetual"
                                },
                                {
                                    "0": "axel@miehler.de",
                                    "1": "",
                                    "2": "",
                                    "3": "1",
                                    "4": "Perpetual"
                                },
                                {
                                    "0": "d.factorial@gmail.com",
                                    "1": "",
                                    "2": "",
                                    "3": "1",
                                    "4": "Perpetual"
                                },
                                {
                                    "0": "nwinder@claritycon.com",
                                    "1": "",
                                    "2": "",
                                    "3": "2",
                                    "4": "Limited by month"
                                },
                                {
                                    "0": "mmoseler@hcfraudshield.com",
                                    "1": "Mike",
                                    "2": "Moseler",
                                    "3": "2",
                                    "4": "Perpetual"
                                },
                                {
                                    "0": "timren@microsoft.com",
                                    "1": "Tim",
                                    "2": "Ren",
                                    "3": "1",
                                    "4": "Perpetual"
                                },
                                {
                                    "0": "benita.niemann@hlag.com",
                                    "1": "Benita",
                                    "2": "Niemann",
                                    "3": "28",
                                    "4": "Limited by year"
                                },
                                {
                                    "0": "sarrington@siteone.com",
                                    "1": "Susann",
                                    "2": "Arrington",
                                    "3": "30",
                                    "4": "Perpetual"
                                },
                                {
                                    "0": "henningc@gmail.com",
                                    "1": "Henning",
                                    "2": "Christiansen",
                                    "3": "2",
                                    "4": "Perpetual"
                                },
                                {
                                    "0": "eddy.petrisor@gmail.com",
                                    "1": "",
                                    "2": "",
                                    "3": "2",
                                    "4": "Perpetual"
                                },
                                {
                                    "0": "kscelfo@ers-usa.com",
                                    "1": "Kenny",
                                    "2": "Scelfo",
                                    "3": "1",
                                    "4": "Perpetual"
                                },
                                {
                                    "0": "josh@jjmatthews.co.uk",
                                    "1": "Josh",
                                    "2": "Matthews",
                                    "3": "1",
                                    "4": "Perpetual"
                                },
                                {
                                    "0": "staffangu@outlook.com",
                                    "1": "Staffan",
                                    "2": "Gustafsson",
                                    "3": "3",
                                    "4": "Perpetual"
                                },
                                {
                                    "0": "pankaj.mathur@citixsys.com",
                                    "1": "Pankaj",
                                    "2": "Mathur",
                                    "3": "1",
                                    "4": "Perpetual"
                                },
                                {
                                    "0": "kinddragon33@gmail.com",
                                    "1": "",
                                    "2": "",
                                    "3": "3",
                                    "4": "Perpetual"
                                },
                                {
                                    "0": "itnotify@kryptiq.com",
                                    "1": "",
                                    "2": "",
                                    "3": "6",
                                    "4": "Perpetual"
                                },
                                {
                                    "0": "shopper@kluge-software.de",
                                    "1": "",
                                    "2": "",
                                    "3": "3",
                                    "4": "Perpetual"
                                },
                                {
                                    "0": "emehdi@gmail.com",
                                    "1": "",
                                    "2": "",
                                    "3": "1",
                                    "4": "Perpetual"
                                },
                                {
                                    "0": "adamn@teamnemitoff.com",
                                    "1": "Adam",
                                    "2": "Nemitoff",
                                    "3": "1",
                                    "4": "Limited by year"
                                },
                                {
                                    "0": "filip.staffa@gmail.com",
                                    "1": "",
                                    "2": "",
                                    "3": "4",
                                    "4": "Perpetual"
                                },
                                {
                                    "0": "jarrod.marshall@gmail.com",
                                    "1": "",
                                    "2": "",
                                    "3": "2",
                                    "4": "Limited by year"
                                },
                                {
                                    "0": "development@greatbigsolutions.com",
                                    "1": "Kathryn",
                                    "2": "Fraser",
                                    "3": "1",
                                    "4": "Limited by year"
                                },
                                {
                                    "0": "CNMAS_Project@sellafieldsites.com",
                                    "1": "Ian",
                                    "2": "Cousins",
                                    "3": "17",
                                    "4": "Perpetual"
                                },
                                {
                                    "0": "kirk.bready@mindfulsoftware.com.au",
                                    "1": "",
                                    "2": "",
                                    "3": "3",
                                    "4": "Perpetual"
                                },
                                {
                                    "0": "svento@reportexec.com",
                                    "1": "",
                                    "2": "",
                                    "3": "4",
                                    "4": "Perpetual"
                                },
                                {
                                    "0": "support@cloudhouse.com",
                                    "1": "Support",
                                    "2": "",
                                    "3": "1",
                                    "4": "Perpetual"
                                },
                                {
                                    "0": "adam.c.gritt@gmail.com",
                                    "1": "Adam",
                                    "2": "Gritt",
                                    "3": "1",
                                    "4": "Perpetual"
                                },
                                {
                                    "0": "kfrantzeskakis@yahoo.gr",
                                    "1": "",
                                    "2": "",
                                    "3": "1",
                                    "4": "Perpetual"
                                },
                                {
                                    "0": "mbarriosc+101@gmail.com",
                                    "1": "Maria101",
                                    "2": "NULL",
                                    "3": "1",
                                    "4": "Perpetual"
                                },
                                {
                                    "0": "matthew.clifford@uk.thalesgroup.com",
                                    "1": "Matthew",
                                    "2": "Clifford",
                                    "3": "1",
                                    "4": "Perpetual"
                                },
                                {
                                    "0": "rebaser@outlook.com",
                                    "1": "David",
                                    "2": "Richards",
                                    "3": "1",
                                    "4": "Perpetual"
                                },
                                {
                                    "0": "syok@tdc.dk",
                                    "1": "Sara",
                                    "2": "Kristensen",
                                    "3": "4",
                                    "4": "Perpetual"
                                },
                                {
                                    "0": "simon.lawrence@rsmuk.com",
                                    "1": "Simon",
                                    "2": "Lawrence",
                                    "3": "1",
                                    "4": "Perpetual"
                                },
                                {
                                    "0": "purchasing@veyo.com",
                                    "1": "Kristen",
                                    "2": "Jourdonais",
                                    "3": "1",
                                    "4": "Limited by year"
                                },
                                {
                                    "0": "samuel.grave@se.abb.com",
                                    "1": "Samuel",
                                    "2": "Grave",
                                    "3": "80",
                                    "4": "Perpetual"
                                },
                                {
                                    "0": "ignacio.calvo@gmail.com",
                                    "1": "Ignacio",
                                    "2": "Calvo",
                                    "3": "1",
                                    "4": "Perpetual"
                                },
                                {
                                    "0": "agross",
                                    "1": "",
                                    "2": "",
                                    "3": "2",
                                    "4": "Perpetual"
                                },
                                {
                                    "0": "the@dips.no",
                                    "1": "Thomas",
                                    "2": "Heggelund",
                                    "3": "1",
                                    "4": "Perpetual"
                                },
                                {
                                    "0": "chrisrico@gmail.com",
                                    "1": "",
                                    "2": "",
                                    "3": "2",
                                    "4": "Perpetual"
                                },
                                {
                                    "0": "ctanner@matoya.org",
                                    "1": "Chris",
                                    "2": "Tanner",
                                    "3": "2",
                                    "4": "Perpetual"
                                },
                                {
                                    "0": "ddoomen",
                                    "1": "",
                                    "2": "",
                                    "3": "2",
                                    "4": "Perpetual"
                                },
                                {
                                    "0": "ryan@emerle.net",
                                    "1": "Ryan",
                                    "2": "Emerle",
                                    "3": "1",
                                    "4": "Perpetual"
                                },
                                {
                                    "0": "innkjop@initialforce.com",
                                    "1": "Initial",
                                    "2": "Force",
                                    "3": "5",
                                    "4": "Limited by year"
                                },
                                {
                                    "0": "urs.enzler@gmail.com",
                                    "1": "Urs",
                                    "2": "Enzler",
                                    "3": "1",
                                    "4": "Perpetual"
                                },
                                {
                                    "0": "mike.hanson@mclaren.com",
                                    "1": "",
                                    "2": "",
                                    "3": "1",
                                    "4": "Perpetual"
                                },
                                {
                                    "0": "mheckmann@gmail.com",
                                    "1": "",
                                    "2": "",
                                    "3": "7",
                                    "4": "Perpetual"
                                },
                                {
                                    "0": "nate@collegescheduler.com",
                                    "1": "",
                                    "2": "",
                                    "3": "1",
                                    "4": "Perpetual"
                                },
                                {
                                    "0": "jnaus@cmpcn.org",
                                    "1": "",
                                    "2": "",
                                    "3": "12",
                                    "4": "Perpetual"
                                },
                                {
                                    "0": "james.raden@gmail.com",
                                    "1": "",
                                    "2": "",
                                    "3": "1",
                                    "4": "Limited by month"
                                },
                                {
                                    "0": "thorsten.gaunitz@scentum.de",
                                    "1": "",
                                    "2": "",
                                    "3": "1",
                                    "4": "Perpetual"
                                },
                                {
                                    "0": "christian.lohr@ganshorn.de",
                                    "1": "",
                                    "2": "",
                                    "3": "3",
                                    "4": "Perpetual"
                                },
                                {
                                    "0": "bob@minnrestate.com",
                                    "1": "Robert",
                                    "2": "Fury",
                                    "3": "1",
                                    "4": "Limited by year"
                                },
                                {
                                    "0": "ap185215@ncr.com",
                                    "1": "",
                                    "2": "",
                                    "3": "2",
                                    "4": "Perpetual"
                                },
                                {
                                    "0": "t.skarman@live.com",
                                    "1": "",
                                    "2": "",
                                    "3": "2",
                                    "4": "Limited by month"
                                },
                                {
                                    "0": "atarikguney@gmail.com",
                                    "1": "",
                                    "2": "",
                                    "3": "1",
                                    "4": "Perpetual"
                                },
                                {
                                    "0": "keithc1@keithcallis.com",
                                    "1": "",
                                    "2": "",
                                    "3": "4",
                                    "4": "Perpetual"
                                },
                                {
                                    "0": "info@moldesoft.no",
                                    "1": "",
                                    "2": "",
                                    "3": "2",
                                    "4": "Perpetual"
                                },
                                {
                                    "0": "henry.eklof@talokeskus.fi",
                                    "1": "",
                                    "2": "",
                                    "3": "1",
                                    "4": "Perpetual"
                                },
                                {
                                    "0": "stephen.d.brown@baml.com",
                                    "1": "",
                                    "2": "",
                                    "3": "2",
                                    "4": "Perpetual"
                                },
                                {
                                    "0": "adam.c.gritt@gmail.com",
                                    "1": "Adam",
                                    "2": "Gritt",
                                    "3": "1",
                                    "4": "Limited by year"
                                },
                                {
                                    "0": "steven.barnes@ncr.com",
                                    "1": "Steven",
                                    "2": "Barnes",
                                    "3": "1",
                                    "4": "Perpetual"
                                },
                                {
                                    "0": "eleveld.marcel+plasticscm@gmail.com",
                                    "1": "Marcel",
                                    "2": "Eleveld",
                                    "3": "1",
                                    "4": "Perpetual"
                                },
                                {
                                    "0": "sirkirby@gmail.com",
                                    "1": "Chris",
                                    "2": "Kirby",
                                    "3": "2",
                                    "4": "Perpetual"
                                },
                                {
                                    "0": "dirk.rombauts@picklespro.com",
                                    "1": "Dirk",
                                    "2": "Rombauts",
                                    "3": "2",
                                    "4": "Perpetual"
                                },
                                {
                                    "0": "gauri.mhaskar@ncr.com",
                                    "1": "Gauri",
                                    "2": "Mhaskar",
                                    "3": "1",
                                    "4": "Perpetual"
                                },
                                {
                                    "0": "jay.sweeney3@gmail.com",
                                    "1": "Jay",
                                    "2": "Sweeney",
                                    "3": "1",
                                    "4": "Limited by month"
                                },
                                {
                                    "0": "chris.hampson@appair.com",
                                    "1": "Chris",
                                    "2": "Hampson",
                                    "3": "1",
                                    "4": "Limited by year"
                                },
                                {
                                    "0": "bcarrier@tpx.com",
                                    "1": "Bill",
                                    "2": "Carrier",
                                    "3": "3",
                                    "4": "Perpetual"
                                },
                                {
                                    "0": "rafael.forero@unity3d.com",
                                    "1": "Rafael",
                                    "2": "Forero",
                                    "3": "1",
                                    "4": "Perpetual"
                                },
                                {
                                    "0": "axel.speier@sbdinc.com",
                                    "1": "Axel",
                                    "2": "Speier",
                                    "3": "10",
                                    "4": "Perpetual"
                                },
                                {
                                    "0": "vincentredrum@gmail.com",
                                    "1": "Vicenç",
                                    "2": "García",
                                    "3": "1",
                                    "4": "Perpetual"
                                },
                                {
                                    "0": "harms.patrick@gmail.com",
                                    "1": "Patrick",
                                    "2": "Harms",
                                    "3": "1",
                                    "4": "Limited by year"
                                },
                                {
                                    "0": "walter.lizardo@nyu.edu",
                                    "1": "Walter",
                                    "2": "Lizardo",
                                    "3": "59",
                                    "4": "Perpetual"
                                },
                                {
                                    "0": "h.eskandari@gmail.com",
                                    "1": "Hadi",
                                    "2": "Eskandari",
                                    "3": "1",
                                    "4": "Perpetual"
                                },
                                {
                                    "0": "msleiners@gmail.com",
                                    "1": "",
                                    "2": "",
                                    "3": "3",
                                    "4": "Perpetual"
                                },
                                {
                                    "0": "stephen.welsh@unifiedfx.com",
                                    "1": "",
                                    "2": "",
                                    "3": "1",
                                    "4": "Limited by year"
                                },
                                {
                                    "0": "maksim.charneha@yandex.ru",
                                    "1": "Maksim",
                                    "2": "Charneha",
                                    "3": "1",
                                    "4": "Limited by month"
                                },
                                {
                                    "0": "marco@zwyssig.info",
                                    "1": "",
                                    "2": "",
                                    "3": "1",
                                    "4": "Perpetual"
                                },
                                {
                                    "0": "laurent.kempe@techheadbrothers.com",
                                    "1": "",
                                    "2": "",
                                    "3": "2",
                                    "4": "Perpetual"
                                },
                                {
                                    "0": "judy.webb@alaska.gov",
                                    "1": "Judy",
                                    "2": "Webb",
                                    "3": "2",
                                    "4": "Perpetual"
                                },
                                {
                                    "0": "etemer@slb.com",
                                    "1": "Elias",
                                    "2": "Temer",
                                    "3": "1",
                                    "4": "Perpetual"
                                },
                                {
                                    "0": "rao.ritesh@gmail.com",
                                    "1": "",
                                    "2": "",
                                    "3": "1",
                                    "4": "Perpetual"
                                },
                                {
                                    "0": "erwin@vandervalk.pro",
                                    "1": "Erwin",
                                    "2": "van der Valk",
                                    "3": "2",
                                    "4": "Perpetual"
                                },
                                {
                                    "0": "felan7476099@hotmail.com",
                                    "1": "Todd",
                                    "2": "Thompson",
                                    "3": "2",
                                    "4": "Perpetual"
                                },
                                {
                                    "0": "r.hochmuth@car-i-solutions.de",
                                    "1": "Reiner",
                                    "2": "Hochmuth",
                                    "3": "2",
                                    "4": "Perpetual"
                                },
                                {
                                    "0": "jesweeney@wabtec.com",
                                    "1": "Jerral",
                                    "2": "Sweeney",
                                    "3": "5",
                                    "4": "Limited by year"
                                },
                                {
                                    "0": "t.dorsch@ibgndt.de",
                                    "1": "Thomas",
                                    "2": "Dorsch",
                                    "3": "2",
                                    "4": "Limited by year"
                                },
                                {
                                    "0": "krt@videometer.com",
                                    "1": "Kristian",
                                    "2": "Thomsen",
                                    "3": "4",
                                    "4": "Limited by year"
                                },
                                {
                                    "0": "nicolas.knoll@trumpf.com",
                                    "1": "Nicolas",
                                    "2": "Knoll",
                                    "3": "1",
                                    "4": "Perpetual"
                                },
                                {
                                    "0": "Benedict_Curatolo@steris.com",
                                    "1": "Ben",
                                    "2": "Curatolo",
                                    "3": "1",
                                    "4": "Limited by year"
                                },
                                {
                                    "0": "nathan.broadbent@soccermanager.com",
                                    "1": "Nathan",
                                    "2": "Broadbent",
                                    "3": "1",
                                    "4": "Limited by month"
                                },
                                {
                                    "0": "cst@techtalk.at",
                                    "1": "Christian",
                                    "2": "Strasil-Ertlbauer",
                                    "3": "3",
                                    "4": "Limited by year"
                                },
                                {
                                    "0": "dbustamante@mmgct.com",
                                    "1": "Diego",
                                    "2": "Bustamante",
                                    "3": "1",
                                    "4": "Perpetual"
                                },
                                {
                                    "0": "wim@vander-vegt.nl",
                                    "1": "Wim",
                                    "2": "van der Vegt",
                                    "3": "2",
                                    "4": "Perpetual"
                                },
                                {
                                    "0": "stuart.clift@gwplc.com",
                                    "1": "Stuart",
                                    "2": "Clift",
                                    "3": "1",
                                    "4": "Perpetual"
                                },
                                {
                                    "0": "miryamgsm",
                                    "1": "",
                                    "2": "",
                                    "3": "42",
                                    "4": "Perpetual"
                                },
                                {
                                    "0": "maciej@warszawski.pro",
                                    "1": "Maciej",
                                    "2": "Warszawski",
                                    "3": "2",
                                    "4": "Limited by month"
                                },
                                {
                                    "0": "cu3po42@outlook.com",
                                    "1": "Copper",
                                    "2": "Phosphate",
                                    "3": "1",
                                    "4": "Perpetual"
                                },
                                {
                                    "0": "info@unatec.es",
                                    "1": "",
                                    "2": "",
                                    "3": "1",
                                    "4": "Perpetual"
                                },
                                {
                                    "0": "kdines@gmail.com",
                                    "1": "",
                                    "2": "",
                                    "3": "1",
                                    "4": "Perpetual"
                                },
                                {
                                    "0": "roel.vlemmings@redblacksoftware.com",
                                    "1": "Roel",
                                    "2": "Vlemmings",
                                    "3": "5",
                                    "4": "Limited by year"
                                },
                                {
                                    "0": "zack.t.smith37@gmail.com",
                                    "1": "Zack",
                                    "2": "Smith",
                                    "3": "1",
                                    "4": "Perpetual"
                                },
                                {
                                    "0": "aleytze@gmail.com",
                                    "1": "Andrew",
                                    "2": "Leytze",
                                    "3": "4",
                                    "4": "Perpetual"
                                },
                                {
                                    "0": "adam.skinner@gmail.com",
                                    "1": "",
                                    "2": "",
                                    "3": "2",
                                    "4": "Perpetual"
                                },
                                {
                                    "0": "imgovind@live.com",
                                    "1": "",
                                    "2": "",
                                    "3": "2",
                                    "4": "Perpetual"
                                },
                                {
                                    "0": "uwe_nassal@agilent.com",
                                    "1": "Uwe",
                                    "2": "Nassal",
                                    "3": "23",
                                    "4": "Perpetual"
                                },
                                {
                                    "0": "jmiguel.hdez@gmail.com",
                                    "1": "",
                                    "2": "",
                                    "3": "3",
                                    "4": "Perpetual"
                                },
                                {
                                    "0": "entwicklung@mitsolutions.de",
                                    "1": "",
                                    "2": "",
                                    "3": "2",
                                    "4": "Perpetual"
                                },
                                {
                                    "0": "h.knitsch@keller-kgs.com",
                                    "1": "H",
                                    "2": "Knitsch",
                                    "3": "3",
                                    "4": "Perpetual"
                                },
                                {
                                    "0": "jdepotter@slb.com",
                                    "1": "Jerome",
                                    "2": "Depotter",
                                    "3": "1",
                                    "4": "Perpetual"
                                },
                                {
                                    "0": "edinburgh@petex.com",
                                    "1": "Derek",
                                    "2": "Angelis",
                                    "3": "2",
                                    "4": "Perpetual"
                                },
                                {
                                    "0": "cornelia.oeschger@innoveo.com",
                                    "1": "Cornelia",
                                    "2": "Oeschger",
                                    "3": "17",
                                    "4": "Limited by year"
                                },
                                {
                                    "0": "admin@computeruniverse.net",
                                    "1": "Maik",
                                    "2": "Friedrich",
                                    "3": "7",
                                    "4": "Limited by year"
                                },
                                {
                                    "0": "telematics.admin@teltonika.lt",
                                    "1": "Teltonika",
                                    "2": "Telematics",
                                    "3": "5",
                                    "4": "Limited by year"
                                }
                            ]
                        },
                        "text/html": [
                            "<table>",
                            "<tr><th>semail</th><th>sfirstname</th><th>slastname</th><th>Licenses</th><th>License type</th></tr>",
                            "<tr><td>joeysmith@gmail.com</td><td>Joey</td><td>Smith</td><td>1</td><td>Perpetual</td></tr>",
                            "<tr><td>arontsang@gmail.com</td><td>Aron</td><td>Tsang</td><td>3</td><td>Perpetual</td></tr>",
                            "<tr><td>josh@jjmatthews.co.uk</td><td>Josh</td><td>Matthews</td><td>1</td><td>Limited by year</td></tr>",
                            "<tr><td>jim.simmons@sclhs.net</td><td></td><td></td><td>1</td><td>Perpetual</td></tr>",
                            "<tr><td>peter@reliabware.com</td><td></td><td></td><td>2</td><td>Limited by year</td></tr>",
                            "<tr><td>nick.kaye@sungard.com</td><td></td><td></td><td>1</td><td>Perpetual</td></tr>",
                            "<tr><td>bradrembielak@live.com</td><td></td><td></td><td>2</td><td>Perpetual</td></tr>",
                            "<tr><td>it.asset.management@danskebank.dk</td><td>Laura</td><td>Buozelyte</td><td>2</td><td>Perpetual</td></tr>",
                            "<tr><td>karin.reysen@siemens.com</td><td>Karin</td><td>Reysen</td><td>1</td><td>Perpetual</td></tr>",
                            "<tr><td>operations@pnimedia.com</td><td>PNI</td><td>Operations</td><td>4</td><td>Perpetual</td></tr>",
                            "<tr><td>homero.villarreal.nava@gmail.com</td><td>Homero</td><td>Villarreal</td><td>1</td><td>Limited by year</td></tr>",
                            "<tr><td>apearce@uk.imshealth.com</td><td>Ami</td><td>Pearce</td><td>9</td><td>Perpetual</td></tr>",
                            "<tr><td>miryam.gsm@gmail.com</td><td></td><td></td><td>5</td><td>Perpetual</td></tr>",
                            "<tr><td>dmitry.vorobyov@gmail.com</td><td></td><td></td><td>1</td><td>Perpetual</td></tr>",
                            "<tr><td>jolene.stelle@visionsolutions.com</td><td></td><td></td><td>4</td><td>Perpetual</td></tr>",
                            "<tr><td>remi+semanticmerge@despres-smyth.com</td><td></td><td></td><td>4</td><td>Perpetual</td></tr>",
                            "<tr><td>trevor@trumpi.co.za</td><td></td><td></td><td>1</td><td>Perpetual</td></tr>",
                            "<tr><td>finnnk@gmail.com</td><td></td><td></td><td>4</td><td>Perpetual</td></tr>",
                            "<tr><td>kostak@broadcom.com</td><td>Konstantin</td><td>Kraimer</td><td>1</td><td>Perpetual</td></tr>",
                            "<tr><td>gael@postsharp.net</td><td>Gael</td><td>Fraiteur</td><td>1</td><td>Perpetual</td></tr>",
                            "<tr><td>mbisaillon@genetec.com</td><td></td><td></td><td>20</td><td>Perpetual</td></tr>",
                            "<tr><td>development@greatbigsolutions.com</td><td>Kathryn</td><td>Fraser</td><td>5</td><td>Perpetual</td></tr>",
                            "<tr><td>tvexiau@slb.com</td><td>thibault</td><td>Vexiau</td><td>2</td><td>Perpetual</td></tr>",
                            "<tr><td>andreas.morch@elektrasoft.de</td><td>Andreas</td><td>Morch</td><td>1</td><td>Perpetual</td></tr>",
                            "<tr><td>rgu@templafy.com</td><td>René</td><td>Gundersen</td><td>2</td><td>Limited by year</td></tr>",
                            "<tr><td>software@skyliner.nl</td><td>Roy</td><td>van Manen</td><td>3</td><td>Perpetual</td></tr>",
                            "<tr><td>jason@ebev.com</td><td>Jason</td><td>Deacon</td><td>1</td><td>Limited by month</td></tr>",
                            "<tr><td>invoice@ncsoft.com</td><td>jeongin</td><td>kim</td><td>2</td><td>Perpetual</td></tr>",
                            "<tr><td>yngverindal@gmail.com</td><td></td><td></td><td>1</td><td>Perpetual</td></tr>",
                            "<tr><td>mark@wintemper.com</td><td>mark</td><td>wilkes</td><td>1</td><td>Perpetual</td></tr>",
                            "<tr><td>mightymuke@gmail.com</td><td>Marcus</td><td>Bristol</td><td>3</td><td>Perpetual</td></tr>",
                            "<tr><td>yourstress@gmail.com</td><td>Mansour</td><td>Alsarraf</td><td>1</td><td>Perpetual</td></tr>",
                            "<tr><td>michael@mquandt.com</td><td>Michael</td><td>Quandt</td><td>1</td><td>Perpetual</td></tr>",
                            "<tr><td>josemalorivera@gmail.com</td><td></td><td></td><td>1</td><td>Perpetual</td></tr>",
                            "<tr><td>len.vanerstrom@ncr.com</td><td></td><td></td><td>1</td><td>Perpetual</td></tr>",
                            "<tr><td>saulius.babilius@vic.lt</td><td>Saulius</td><td>Babilius</td><td>1</td><td>Perpetual</td></tr>",
                            "<tr><td>rdealmeida@maxeler.com</td><td>Rui</td><td>Almeida</td><td>1</td><td>Perpetual</td></tr>",
                            "<tr><td>steven.stangle@gd-ms.com</td><td>Steven</td><td>Stangle</td><td>1</td><td>Perpetual</td></tr>",
                            "<tr><td>sylvain.brunet@cpu.ca</td><td>Sylvain</td><td>Brunet</td><td>1</td><td>Perpetual</td></tr>",
                            "<tr><td>zapman@z-meta.com</td><td>Michael</td><td>Zappe</td><td>1</td><td>Perpetual</td></tr>",
                            "<tr><td>sunny@vmmsconsulting.com</td><td>Svetoslav</td><td>Milenov</td><td>2</td><td>Perpetual</td></tr>",
                            "<tr><td>christian@infront-x.com</td><td>Christian</td><td>Rygg</td><td>1</td><td>Perpetual</td></tr>",
                            "<tr><td>itadmin@kcd.co.kr</td><td>IT</td><td>ADMIN</td><td>1</td><td>Perpetual</td></tr>",
                            "<tr><td>jg@ajoursystem.dk</td><td>Jakob</td><td>Gaardsted</td><td>1</td><td>Limited by year</td></tr>",
                            "<tr><td>firedfly@gmail.com</td><td>Stephen</td><td>Gordon</td><td>1</td><td>Limited by year</td></tr>",
                            "<tr><td>nathanael.jones@gmail.com</td><td></td><td></td><td>2</td><td>Perpetual</td></tr>",
                            "<tr><td>bagukiri@gmail.com</td><td>Rodney</td><td>Relosa</td><td>1</td><td>Perpetual</td></tr>",
                            "<tr><td>david@stabbylambda.com</td><td>David</td><td>Stone</td><td>1</td><td>Perpetual</td></tr>",
                            "<tr><td>andrew@abtsoftware.co.uk</td><td></td><td></td><td>3</td><td>Perpetual</td></tr>",
                            "<tr><td>chaitanya.gurrapu@gmail.com</td><td></td><td></td><td>4</td><td>Perpetual</td></tr>",
                            "<tr><td>domains@itmystix.com</td><td>Manish</td><td>Kungwani</td><td>1</td><td>Perpetual</td></tr>",
                            "<tr><td>jonathankuleff@gmail.com</td><td></td><td></td><td>6</td><td>Perpetual</td></tr>",
                            "<tr><td>bob@minnrestate.com</td><td>Robert</td><td>Fury</td><td>4</td><td>Perpetual</td></tr>",
                            "<tr><td>developers@ionoco.com</td><td></td><td></td><td>10</td><td>Perpetual</td></tr>",
                            "<tr><td>Georgi.Slavov@apextoolgroup.com</td><td>Georgi</td><td>Slavov</td><td>10</td><td>Perpetual</td></tr>",
                            "<tr><td>Thomas.vonTrzebiatowski@khs.com</td><td>Thomas</td><td>von Trzebiatowski</td><td>3</td><td>Limited by date</td></tr>",
                            "<tr><td>ITTeamSLAM@quickenloans.com</td><td>Software</td><td>Licensing</td><td>10</td><td>Perpetual</td></tr>",
                            "<tr><td>christian.berberich@brand.de</td><td>Christian</td><td>Berberich</td><td>6</td><td>Perpetual</td></tr>",
                            "<tr><td>freaksed@gmail.com</td><td>Benjamin</td><td>Vaccaro</td><td>2</td><td>Limited by year</td></tr>",
                            "<tr><td>sshaw@decriptor.com</td><td>Stephen</td><td>Shaw</td><td>1</td><td>Perpetual</td></tr>",
                            "<tr><td>dawid.cieszynski@crystalcode.pl</td><td>Dawid</td><td>Cieszynski</td><td>7</td><td>Perpetual</td></tr>",
                            "<tr><td>martin.torney@sciencesoft.com</td><td>Martin</td><td>Torney</td><td>2</td><td>Perpetual</td></tr>",
                            "<tr><td>brendanjerwin@gmail.com</td><td>Brendan</td><td>Erwin</td><td>1</td><td>Perpetual</td></tr>",
                            "<tr><td>meebey@gmail.com</td><td></td><td></td><td>1</td><td>Perpetual</td></tr>",
                            "<tr><td>jamie@widernets.com</td><td>James</td><td>Fraser</td><td>3</td><td>Perpetual</td></tr>",
                            "<tr><td>msumerano@gmail.com</td><td>Michael</td><td>Sumerano</td><td>1</td><td>Perpetual</td></tr>",
                            "<tr><td>andrew@abtsoftware.co.uk</td><td></td><td></td><td>4</td><td>Limited by year</td></tr>",
                            "<tr><td>it.norway@vizrt.com</td><td></td><td></td><td>2</td><td>Perpetual</td></tr>",
                            "<tr><td>license.purchase@pacom.com</td><td></td><td></td><td>1</td><td>Perpetual</td></tr>",
                            "<tr><td>udo.riedel@centertools.de</td><td></td><td></td><td>1</td><td>Perpetual</td></tr>",
                            "<tr><td>sean@thefergies.net</td><td></td><td></td><td>1</td><td>Perpetual</td></tr>",
                            "<tr><td>msmialek@gmail.com</td><td></td><td></td><td>5</td><td>Perpetual</td></tr>",
                            "<tr><td>hranac.jakub@gmail.com</td><td></td><td></td><td>2</td><td>Limited by year</td></tr>",
                            "<tr><td>beat.kurmann@bk-solution.ch</td><td></td><td></td><td>10</td><td>Perpetual</td></tr>",
                            "<tr><td>sebastienc@eostar.com</td><td></td><td></td><td>1</td><td>Perpetual</td></tr>",
                            "<tr><td>purchasing@veyo.com</td><td>Kristen</td><td>Jourdonais</td><td>1</td><td>Perpetual</td></tr>",
                            "<tr><td>daniel.borgmann@gmail.com</td><td>Daniel</td><td>Borgmann</td><td>1</td><td>Limited by month</td></tr>",
                            "<tr><td>timothy@landorphan.com</td><td>Timothy</td><td>Stockstill</td><td>1</td><td>Limited by year</td></tr>",
                            "<tr><td>andreas@stenlundsdata.se</td><td>Andreas</td><td>Stenlund</td><td>2</td><td>Limited by year</td></tr>",
                            "<tr><td>iain.strachan@amorgroup.com</td><td>Iain</td><td>Strachan</td><td>2</td><td>Perpetual</td></tr>",
                            "<tr><td>soniiic@outlook.com</td><td>Daniel</td><td>Cooper</td><td>1</td><td>Perpetual</td></tr>",
                            "<tr><td>iqueiroz.go@gmail.com</td><td></td><td></td><td>1</td><td>Perpetual</td></tr>",
                            "<tr><td>joar.oyen@joaroyen.com</td><td></td><td></td><td>2</td><td>Perpetual</td></tr>",
                            "<tr><td>bblanchard@acadian.com</td><td></td><td></td><td>12</td><td>Perpetual</td></tr>",
                            "<tr><td>will.barr@outlook.com</td><td></td><td></td><td>1</td><td>Perpetual</td></tr>",
                            "<tr><td>schalpat@schaeffler.com</td><td>Patrick</td><td>Schaller</td><td>1</td><td>Perpetual</td></tr>",
                            "<tr><td>rene.peuser@hotmail.de</td><td></td><td></td><td>1</td><td>Limited by date</td></tr>",
                            "<tr><td>SergVro@gmail.com</td><td>Sergii</td><td>Vorushylo</td><td>1</td><td>Limited by year</td></tr>",
                            "<tr><td>dirk.maegh@gmail.com</td><td></td><td></td><td>1</td><td>Perpetual</td></tr>",
                            "<tr><td>martin.haslinger@umdasch.com</td><td></td><td></td><td>3</td><td>Perpetual</td></tr>",
                            "<tr><td>mark.nelson@intrado.com</td><td>West+Safety+Services+Inc.</td><td>NA</td><td>5</td><td>Perpetual</td></tr>",
                            "<tr><td>lucas@krammesnet.com</td><td></td><td></td><td>8</td><td>Perpetual</td></tr>",
                            "<tr><td>darryl.smith@ncr.com</td><td>Darryl</td><td>Smith</td><td>1</td><td>Perpetual</td></tr>",
                            "<tr><td>i.schaefer@dial.de</td><td>Sven</td><td>Pawlowski</td><td>3</td><td>Perpetual</td></tr>",
                            "<tr><td>bbuchanan@co.shasta.ca.us</td><td>Brandon</td><td>Buchanan</td><td>4</td><td>Perpetual</td></tr>",
                            "<tr><td>brenton.mcsweyn@gmail.com</td><td>Brenton</td><td>McSweyn</td><td>1</td><td>Perpetual</td></tr>",
                            "<tr><td>mail.alex.lyman@gmail.com</td><td></td><td></td><td>2</td><td>Limited by month</td></tr>",
                            "<tr><td>roel.vlemmings@redblacksoftware.com</td><td>Roel</td><td>Vlemmings</td><td>4</td><td>Perpetual</td></tr>",
                            "<tr><td>cf.rosen@gmail.com</td><td></td><td></td><td>3</td><td>Perpetual</td></tr>",
                            "<tr><td>richard.grant@ncr.com</td><td></td><td></td><td>1</td><td>Perpetual</td></tr>",
                            "<tr><td>lukas@woehrl.net</td><td></td><td></td><td>2</td><td>Perpetual</td></tr>",
                            "<tr><td>peter@reliabware.com</td><td></td><td></td><td>2</td><td>Perpetual</td></tr>",
                            "<tr><td>n.hayato@jp.fujitsu.com</td><td></td><td></td><td>1</td><td>Perpetual</td></tr>",
                            "<tr><td>entwicklung@mitsolutions.de</td><td></td><td></td><td>1</td><td>Limited by year</td></tr>",
                            "<tr><td>daume.dennis@gmail.com</td><td></td><td></td><td>1</td><td>Perpetual</td></tr>",
                            "<tr><td>jan.selbach@siemens.com</td><td>Jan</td><td>Selbach</td><td>21</td><td>Perpetual</td></tr>",
                            "<tr><td>stephen.g.thomas@wayne.com</td><td></td><td></td><td>3</td><td>Perpetual</td></tr>",
                            "<tr><td>andre.kunz@icamsystems.de</td><td></td><td></td><td>2</td><td>Perpetual</td></tr>",
                            "<tr><td>asepulveda@qktech.com.au</td><td>Andres</td><td>Sepulveda</td><td>3</td><td>Perpetual</td></tr>",
                            "<tr><td>gedan@ganked.me</td><td>Nick</td><td>Watkinson</td><td>2</td><td>Perpetual</td></tr>",
                            "<tr><td>pablo@semanticmerge.com</td><td>pablo</td><td>santos</td><td>1</td><td>Perpetual</td></tr>",
                            "<tr><td>michael.blume@currentsystem23.de</td><td>Michael</td><td>Blume</td><td>2</td><td>Perpetual</td></tr>",
                            "<tr><td>office@flessl.at</td><td>Thomas</td><td>Fleßl</td><td>1</td><td>Perpetual</td></tr>",
                            "<tr><td>benn.herrera@pm.me</td><td>Benn</td><td>Herrera</td><td>1</td><td>Limited by year</td></tr>",
                            "<tr><td>fredericv@unity3d.com</td><td>Frédéric</td><td>Vauchelles</td><td>1</td><td>Perpetual</td></tr>",
                            "<tr><td>tom.peters@sungard.com</td><td>Tom</td><td>Peters</td><td>1</td><td>Perpetual</td></tr>",
                            "<tr><td>migueljgonz@gmail.com</td><td>Miguel</td><td>González</td><td>3</td><td>Perpetual</td></tr>",
                            "<tr><td>lucas.kaczanowski@gmail.com</td><td></td><td></td><td>2</td><td>Perpetual</td></tr>",
                            "<tr><td>bart@bartdemeyer.be</td><td>Bart</td><td>De Meyer</td><td>1</td><td>Perpetual</td></tr>",
                            "<tr><td>dirk.rombauts@picklesdoc.com</td><td>Dirk</td><td>Rombauts</td><td>2</td><td>Perpetual</td></tr>",
                            "<tr><td>willdhb@gmail.com</td><td></td><td></td><td>1</td><td>Perpetual</td></tr>",
                            "<tr><td>bradley.uffner@gmail.com</td><td>Bradley</td><td>Uffner</td><td>1</td><td>Limited by year</td></tr>",
                            "<tr><td>sdh@vertica.dk</td><td>Sune</td><td>Hansen</td><td>1</td><td>Perpetual</td></tr>",
                            "<tr><td>mikiya@adm.ne.jp</td><td>mikiya</td><td>muramatsu</td><td>2</td><td>Perpetual</td></tr>",
                            "<tr><td>airrick4@benco.com</td><td></td><td></td><td>1</td><td>Perpetual</td></tr>",
                            "<tr><td>james@visit-it.co.uk</td><td></td><td></td><td>1</td><td>Perpetual</td></tr>",
                            "<tr><td>mrtheTrain</td><td></td><td></td><td>1</td><td>Perpetual</td></tr>",
                            "<tr><td>simon.cropp@gmail.com</td><td>Simon</td><td>Cropp</td><td>1</td><td>Perpetual</td></tr>",
                            "<tr><td>developmentalmadness@gmail.com</td><td></td><td></td><td>2</td><td>Perpetual</td></tr>",
                            "<tr><td>sergey@jetbrains.com</td><td></td><td></td><td>1</td><td>Perpetual</td></tr>",
                            "<tr><td>saveenr@live.com</td><td></td><td></td><td>1</td><td>Perpetual</td></tr>",
                            "<tr><td>andreas.jaeger@bayer.com</td><td></td><td></td><td>2</td><td>Perpetual</td></tr>",
                            "<tr><td>swadmin-list@broadcom.com</td><td>Jen</td><td>Helton</td><td>4</td><td>Perpetual</td></tr>",
                            "<tr><td>alashcraft@gmail.com</td><td></td><td></td><td>1</td><td>Perpetual</td></tr>",
                            "<tr><td>soenke@schwenks.de</td><td>Soenke</td><td>Schwenk</td><td>2</td><td>Perpetual</td></tr>",
                            "<tr><td>jorge.serrano.perez@gmail.com</td><td>Jorge</td><td>Serrano Pérez</td><td>1</td><td>Perpetual</td></tr>",
                            "<tr><td>lic1@syssoft.ru</td><td>Maxim</td><td>Tikurkin</td><td>2</td><td>Perpetual</td></tr>",
                            "<tr><td>vorlontechkft@gmail.com</td><td>Gabor</td><td>Karsai</td><td>1</td><td>Limited by year</td></tr>",
                            "<tr><td>broccula@gmail.com</td><td>Lee</td><td>Hurley</td><td>1</td><td>Limited by year</td></tr>",
                            "<tr><td>bp53@ntrs.com</td><td>Bernardino</td><td>Perea</td><td>30</td><td>Perpetual</td></tr>",
                            "<tr><td>lm@viscomvisual.com</td><td>Lorenz</td><td>Malmström</td><td>5</td><td>Perpetual</td></tr>",
                            "<tr><td>andrewcarvalho@laundrybear.com</td><td>Andrew</td><td>Carvalho</td><td>1</td><td>Limited by year</td></tr>",
                            "<tr><td>michel.nadege@gmail.com</td><td>Nadege</td><td>Michel</td><td>2</td><td>Perpetual</td></tr>",
                            "<tr><td>berkus@gmail.com</td><td>Stanislav</td><td>Karchebnyy</td><td>1</td><td>Perpetual</td></tr>",
                            "<tr><td>robert.randell@exeter.ox.ac.uk</td><td>Rob</td><td>Randell</td><td>1</td><td>Perpetual</td></tr>",
                            "<tr><td>adutton@adutton.net</td><td>Andrew</td><td>Dutton</td><td>1</td><td>Limited by year</td></tr>",
                            "<tr><td>julianfeja@gmail.com</td><td></td><td></td><td>4</td><td>Perpetual</td></tr>",
                            "<tr><td>scott_l_smith@hotmail.com</td><td></td><td></td><td>1</td><td>Limited by month</td></tr>",
                            "<tr><td>colin@dabritz.org</td><td></td><td></td><td>1</td><td>Perpetual</td></tr>",
                            "<tr><td>wwiser@gmail.com</td><td></td><td></td><td>1</td><td>Perpetual</td></tr>",
                            "<tr><td>tj@vimoin.com</td><td></td><td></td><td>2</td><td>Perpetual</td></tr>",
                            "<tr><td>austinwagner@gmail.com</td><td></td><td></td><td>1</td><td>Perpetual</td></tr>",
                            "<tr><td>pat.deuster@promax.com</td><td>Robert</td><td>Deuster</td><td>5</td><td>Limited by year</td></tr>",
                            "<tr><td>atzmueller@cs.uni-kassel.de</td><td>Martin</td><td>Atzmueller</td><td>1</td><td>Perpetual</td></tr>",
                            "<tr><td>jmdorcy@gmail.com</td><td></td><td></td><td>1</td><td>Limited by year</td></tr>",
                            "<tr><td>miguel.ocana@gmail.com</td><td>Miguel Ángel</td><td>Ocaña Silva</td><td>1</td><td>Perpetual</td></tr>",
                            "<tr><td>tvjames@hotmail.com</td><td>T</td><td>J</td><td>1</td><td>Limited by year</td></tr>",
                            "<tr><td>oddur@klang-games.com</td><td>Oddur</td><td>Magnusson</td><td>6</td><td>Limited by year</td></tr>",
                            "<tr><td>dennis.doomen@evision-software.com</td><td>Dennis</td><td>Doomen</td><td>1</td><td>Perpetual</td></tr>",
                            "<tr><td>aleksei@guzev.pro</td><td>Aleksei</td><td>Guzev</td><td>1</td><td>Limited by month</td></tr>",
                            "<tr><td>StevenTCramer@gmail.com</td><td>Steven</td><td>Cramer</td><td>7</td><td>Perpetual</td></tr>",
                            "<tr><td>bogwahn@gmail.com</td><td>Andrew</td><td>Vogel</td><td>2</td><td>Perpetual</td></tr>",
                            "<tr><td>rask@rask.ca</td><td>Mike</td><td>Cattle</td><td>1</td><td>Perpetual</td></tr>",
                            "<tr><td>keith.pesavento@meltingtree.com</td><td></td><td></td><td>2</td><td>Perpetual</td></tr>",
                            "<tr><td>williamwnewton@live.com</td><td></td><td></td><td>5</td><td>Perpetual</td></tr>",
                            "<tr><td>smartboyathome@gmail.com</td><td></td><td></td><td>1</td><td>Limited by month</td></tr>",
                            "<tr><td>guenther.resch@automationx.com</td><td>Günther</td><td>Resch</td><td>6</td><td>Limited by year</td></tr>",
                            "<tr><td>rjbsmith@gmail.com</td><td></td><td></td><td>2</td><td>Limited by year</td></tr>",
                            "<tr><td>moore.benjamin@gmail.com</td><td></td><td></td><td>1</td><td>Perpetual</td></tr>",
                            "<tr><td>boonkitp@gmail.com</td><td></td><td></td><td>2</td><td>Perpetual</td></tr>",
                            "<tr><td>jurgen@vanderkamp.info</td><td></td><td></td><td>3</td><td>Perpetual</td></tr>",
                            "<tr><td>nils.beckmann@ganshorn.de</td><td></td><td></td><td>2</td><td>Perpetual</td></tr>",
                            "<tr><td>schaloms@msg.de</td><td></td><td></td><td>2</td><td>Perpetual</td></tr>",
                            "<tr><td>markd_uk@hotmail.com</td><td></td><td></td><td>3</td><td>Perpetual</td></tr>",
                            "<tr><td>vladimir.dudas@infor.com</td><td>Vladimir</td><td>Dudas</td><td>6</td><td>Perpetual</td></tr>",
                            "<tr><td>kbachtold@gmail.com</td><td>Kurt</td><td>Bachtold</td><td>2</td><td>Limited by year</td></tr>",
                            "<tr><td>Nikolai.Mueller@mrs-electronic.de</td><td>Nikolai</td><td>Müller</td><td>4</td><td>Perpetual</td></tr>",
                            "<tr><td>mrennie@argo.ai</td><td>Nikolaus</td><td>Wittenstein</td><td>1</td><td>Perpetual</td></tr>",
                            "<tr><td>BSouth@uk.imshealth.com</td><td>Ben</td><td>South</td><td>1</td><td>Perpetual</td></tr>",
                            "<tr><td>hilmar.voegele@siemens-logistics.com</td><td>Hilmar</td><td>Vögele</td><td>1</td><td>Limited by year</td></tr>",
                            "<tr><td>jayotterbein@gmail.com</td><td></td><td></td><td>2</td><td>Perpetual</td></tr>",
                            "<tr><td>jayotterbein@gmail.com</td><td></td><td></td><td>1</td><td>Limited by year</td></tr>",
                            "<tr><td>bartlomiej.mucha@hotmail.com</td><td>Bartlomiej</td><td>Mucha</td><td>2</td><td>Perpetual</td></tr>",
                            "<tr><td>michael@kedzierski.id.au</td><td></td><td></td><td>2</td><td>Perpetual</td></tr>",
                            "<tr><td>nelsonhf@gmail.com</td><td></td><td></td><td>3</td><td>Perpetual</td></tr>",
                            "<tr><td>ppekrol@ais.pl</td><td>Pawel</td><td>Pekról</td><td>5</td><td>Perpetual</td></tr>",
                            "<tr><td>ismailm123@gmail.com</td><td>Ismail</td><td>Mayat</td><td>1</td><td>Perpetual</td></tr>",
                            "<tr><td>jason.boyd.ce@gmail.com</td><td></td><td></td><td>3</td><td>Perpetual</td></tr>",
                            "<tr><td>will.barr@outlook.com</td><td></td><td></td><td>1</td><td>Limited by month</td></tr>",
                            "<tr><td>tscheffert@claritycon.com</td><td></td><td></td><td>1</td><td>Perpetual</td></tr>",
                            "<tr><td>kriti.pande@ncr.com</td><td>Kriti</td><td>Pande</td><td>1</td><td>Perpetual</td></tr>",
                            "<tr><td>centenopm@bccr.fi.cr</td><td>Marcia</td><td>Centeno Pérez</td><td>17</td><td>Perpetual</td></tr>",
                            "<tr><td>admin@fair-computer.de</td><td>FCS</td><td>Admin</td><td>1</td><td>Perpetual</td></tr>",
                            "<tr><td>arien.hartgers@soliddevelopment.nl</td><td>Ariën</td><td>Hartgers</td><td>1</td><td>Perpetual</td></tr>",
                            "<tr><td>kevin.ryan.8765@gmail.com</td><td>Kevin</td><td>Ryan</td><td>1</td><td>Limited by year</td></tr>",
                            "<tr><td>Ulrike.Schnittker@justiz.niedersachsen.de</td><td>Ulrike</td><td>Schnittker</td><td>17</td><td>Limited by year</td></tr>",
                            "<tr><td>xavier@mobius.zone</td><td>Xavier</td><td>Guillemot</td><td>1</td><td>Perpetual</td></tr>",
                            "<tr><td>stefan@camilleri.me</td><td>Stefan</td><td>Camilleri</td><td>2</td><td>Perpetual</td></tr>",
                            "<tr><td>JHorvath@MaxetaTech.com</td><td>John</td><td>Horvath</td><td>2</td><td>Perpetual</td></tr>",
                            "<tr><td>peter.randall@weblogik.co.uk</td><td>Peter</td><td>Randall</td><td>1</td><td>Perpetual</td></tr>",
                            "<tr><td>tilo.dickopp@fundtech.com</td><td>Tilo</td><td>Dickopp</td><td>1</td><td>Perpetual</td></tr>",
                            "<tr><td>matt@djmatty.com</td><td></td><td></td><td>7</td><td>Perpetual</td></tr>",
                            "<tr><td>pmappix@gmail.com</td><td></td><td></td><td>2</td><td>Perpetual</td></tr>",
                            "<tr><td>z669016@gmail.com</td><td>Rene</td><td>Putten</td><td>1</td><td>Perpetual</td></tr>",
                            "<tr><td>daniel@conatuscreative.com</td><td></td><td></td><td>3</td><td>Perpetual</td></tr>",
                            "<tr><td>daniel@stockhammer.it</td><td>Daniel</td><td>Stockhammer</td><td>2</td><td>Perpetual</td></tr>",
                            "<tr><td>nsinreal@gmail.com</td><td>Viktor</td><td>Lova</td><td>1</td><td>Perpetual</td></tr>",
                            "<tr><td>u.bader@ub-software.de</td><td></td><td></td><td>7</td><td>Perpetual</td></tr>",
                            "<tr><td>mikelawton@daprosystems.com</td><td></td><td></td><td>3</td><td>Perpetual</td></tr>",
                            "<tr><td>jrusbatch@gmail.com</td><td>Justin</td><td>Rusbatch</td><td>1</td><td>Perpetual</td></tr>",
                            "<tr><td>mike@byteflurry.com</td><td></td><td></td><td>1</td><td>Perpetual</td></tr>",
                            "<tr><td>itamar@code972.com</td><td></td><td></td><td>1</td><td>Perpetual</td></tr>",
                            "<tr><td>mail@batronix.com</td><td></td><td></td><td>1</td><td>Perpetual</td></tr>",
                            "<tr><td>stephane.jeffrey@gmail.com</td><td></td><td></td><td>1</td><td>Perpetual</td></tr>",
                            "<tr><td>gavin_hinchley@mitel.com</td><td></td><td></td><td>1</td><td>Perpetual</td></tr>",
                            "<tr><td>russ.cam@forloop.co.uk</td><td></td><td></td><td>6</td><td>Perpetual</td></tr>",
                            "<tr><td>marcin.krasniewski@pkobp.pl</td><td>Marcin</td><td>Krasniewski</td><td>10</td><td>Perpetual</td></tr>",
                            "<tr><td>netmazy@o2.pl</td><td>Michal</td><td>M</td><td>1</td><td>Limited by year</td></tr>",
                            "<tr><td>wojciech.majda@motorolasolutions.com</td><td>Wojciech</td><td>Majda</td><td>12</td><td>Perpetual</td></tr>",
                            "<tr><td>mark.brown8790@gmail.com</td><td>Mark</td><td>Brown</td><td>3</td><td>Limited by year</td></tr>",
                            "<tr><td>6537537@gmail.com</td><td>Roman</td><td>Evseev</td><td>2</td><td>Perpetual</td></tr>",
                            "<tr><td>thomas_dr@yahoo.com</td><td>Don</td><td>Thomas</td><td>2</td><td>Perpetual</td></tr>",
                            "<tr><td>mark.broadhurst@gmail.com</td><td></td><td></td><td>5</td><td>Perpetual</td></tr>",
                            "<tr><td>jeremiah.gowdy@freedomvoice.com</td><td>Jeremiah</td><td>Gowdy</td><td>1</td><td>Perpetual</td></tr>",
                            "<tr><td>Richardsonke@gmail.com</td><td>Keith</td><td>Richardson</td><td>2</td><td>Perpetual</td></tr>",
                            "<tr><td>tobiasoort@gmail.com</td><td>Tobias</td><td>Oort</td><td>2</td><td>Limited by month</td></tr>",
                            "<tr><td>yuriykagan@gmail.com</td><td>Yuriy</td><td>Kagan</td><td>1</td><td>Limited by month</td></tr>",
                            "<tr><td>ed@ejb.name</td><td></td><td></td><td>2</td><td>Perpetual</td></tr>",
                            "<tr><td>lao@thedivineforums.com</td><td></td><td></td><td>3</td><td>Limited by year</td></tr>",
                            "<tr><td>david@play.net</td><td>David</td><td>Whatley</td><td>1</td><td>Perpetual</td></tr>",
                            "<tr><td>epa@oc.com</td><td>Eric</td><td>Armstrong</td><td>15</td><td>Perpetual</td></tr>",
                            "<tr><td>claudia.starke-regul@anton-paar.com</td><td></td><td></td><td>3</td><td>Perpetual</td></tr>",
                            "<tr><td>ralf_welt@agilent.com</td><td></td><td></td><td>4</td><td>Perpetual</td></tr>",
                            "<tr><td>philippe.tremblay@elapsetech.com</td><td></td><td></td><td>5</td><td>Perpetual</td></tr>",
                            "<tr><td>james@code-consultants.co.uk</td><td></td><td></td><td>3</td><td>Limited by month</td></tr>",
                            "<tr><td>mbarriosc@codicesoftware.com</td><td>María</td><td>Barrios</td><td>4</td><td>Perpetual</td></tr>",
                            "<tr><td>olivier.cinquin@uci.edu</td><td>Olivier</td><td>NULL</td><td>1</td><td>Perpetual</td></tr>",
                            "<tr><td>levi.e.dettwyler@intel.com</td><td>Levi</td><td>Dettwyler</td><td>1</td><td>Perpetual</td></tr>",
                            "<tr><td>andreas.schneider@mfa-informatik.ch</td><td>Andreas</td><td>Schneider</td><td>1</td><td>Limited by date</td></tr>",
                            "<tr><td>jgscherber@gmail.com</td><td>Jacob</td><td>Scherber</td><td>1</td><td>Limited by month</td></tr>",
                            "<tr><td>thomas.eyde@gmail.com</td><td>Thomas</td><td>Eyde</td><td>2</td><td>Limited by year</td></tr>",
                            "<tr><td>JesterSks@gmail.com</td><td>Robert</td><td>Burghart</td><td>1</td><td>Limited by year</td></tr>",
                            "<tr><td>bfury@verifiedcredentials.com</td><td>Robert</td><td>Fury</td><td>4</td><td>Perpetual</td></tr>",
                            "<tr><td>knutaldrin@gmail.com</td><td>Knut</td><td>Wikström</td><td>1</td><td>Perpetual</td></tr>",
                            "<tr><td>m.schleipen@just-intelligence.de</td><td>Markus</td><td>Schleipen</td><td>4</td><td>Perpetual</td></tr>",
                            "<tr><td>steve@v-learningsolutions.com</td><td>Steve</td><td>Mansell</td><td>2</td><td>Limited by year</td></tr>",
                            "<tr><td>christopher.spencer@sea.co.uk</td><td>Chris</td><td>Spencer</td><td>1</td><td>Perpetual</td></tr>",
                            "<tr><td>layoric@gmail.com</td><td></td><td></td><td>2</td><td>Perpetual</td></tr>",
                            "<tr><td>joerg.benndorf@t-online.de</td><td>Joerg</td><td>Benndorf</td><td>2</td><td>Perpetual</td></tr>",
                            "<tr><td>nick@oceanavenue.com</td><td>Nick</td><td>Murdock</td><td>1</td><td>Perpetual</td></tr>",
                            "<tr><td>engage@engagesoftware.com</td><td></td><td></td><td>18</td><td>Perpetual</td></tr>",
                            "<tr><td>robhughes@gmail.com</td><td></td><td></td><td>1</td><td>Perpetual</td></tr>",
                            "<tr><td>paul.darmos@myob.com</td><td></td><td></td><td>2</td><td>Perpetual</td></tr>",
                            "<tr><td>matthew@mercuryit.co.uk</td><td></td><td></td><td>3</td><td>Perpetual</td></tr>",
                            "<tr><td>semanticmerge@analogcoast.com</td><td></td><td></td><td>1</td><td>Perpetual</td></tr>",
                            "<tr><td>auinger@ngs.at</td><td></td><td></td><td>11</td><td>Perpetual</td></tr>",
                            "<tr><td>steve.westergaard@gmail.com</td><td></td><td></td><td>1</td><td>Perpetual</td></tr>",
                            "<tr><td>mazina@umich.edu</td><td></td><td></td><td>1</td><td>Perpetual</td></tr>",
                            "<tr><td>chris.seed@gmail.com</td><td></td><td></td><td>3</td><td>Perpetual</td></tr>",
                            "<tr><td>softwarelizenzen@kuka-roboter.de</td><td>Software</td><td>Lizenzen</td><td>5</td><td>Limited by date</td></tr>",
                            "<tr><td>anthony@codemonkey256.com</td><td>Anthony</td><td>Buchanan</td><td>2</td><td>Perpetual</td></tr>",
                            "<tr><td>Cboutiette@shelltechworks.com</td><td>Chris</td><td>Boutiette</td><td>5</td><td>Perpetual</td></tr>",
                            "<tr><td>huw.jenkins@rapidsoftwareconsultancy.com</td><td>Huw</td><td>Jenkins</td><td>1</td><td>Limited by year</td></tr>",
                            "<tr><td>f.frasch@blum-novotest.com</td><td>Fabian</td><td>Frasch</td><td>1</td><td>Perpetual</td></tr>",
                            "<tr><td>tina.joshua@pexmain.com</td><td>Tina</td><td>Joshua</td><td>32</td><td>Perpetual</td></tr>",
                            "<tr><td>chris.sam55@gmail.com</td><td>Chris</td><td>Samuelson</td><td>1</td><td>Perpetual</td></tr>",
                            "<tr><td>carole.camozzi@natixis.com</td><td>Carole</td><td>Camozzi</td><td>1</td><td>Limited by date</td></tr>",
                            "<tr><td>szymon@devid.pl</td><td></td><td></td><td>2</td><td>Perpetual</td></tr>",
                            "<tr><td>kimworking@gmail.com</td><td>Kim</td><td>Christensen</td><td>1</td><td>Perpetual</td></tr>",
                            "<tr><td>nestalk@gmail.com</td><td></td><td></td><td>1</td><td>Limited by year</td></tr>",
                            "<tr><td>junkdogAP</td><td></td><td></td><td>1</td><td>Perpetual</td></tr>",
                            "<tr><td>stefan.stolz@awin-software.de</td><td>Stefan</td><td>Stolz</td><td>2</td><td>Perpetual</td></tr>",
                            "<tr><td>rhodes.brad@gmail.com</td><td>Brad</td><td>Rhodes</td><td>2</td><td>Perpetual</td></tr>",
                            "<tr><td>rerdies@eagleandshepherd.net</td><td></td><td></td><td>2</td><td>Perpetual</td></tr>",
                            "<tr><td>cebbert@cachetfinancial.com</td><td></td><td></td><td>9</td><td>Perpetual</td></tr>",
                            "<tr><td>vallance.charles@gmail.com</td><td></td><td></td><td>3</td><td>Perpetual</td></tr>",
                            "<tr><td>paul.martin4@ncr.com</td><td></td><td></td><td>1</td><td>Perpetual</td></tr>",
                            "<tr><td>karl23@gmail.com</td><td></td><td></td><td>2</td><td>Perpetual</td></tr>",
                            "<tr><td>pdavis@flightdocs.com</td><td></td><td></td><td>1</td><td>Perpetual</td></tr>",
                            "<tr><td>chris@tuesdaybegins.com</td><td></td><td></td><td>1</td><td>Perpetual</td></tr>",
                            "<tr><td>rene.peuser@hotmail.de</td><td></td><td></td><td>1</td><td>Perpetual</td></tr>",
                            "<tr><td>liang.luo@hella.com</td><td></td><td></td><td>1</td><td>Perpetual</td></tr>",
                            "<tr><td>development@promax.com</td><td>Jess</td><td>Hartmann</td><td>2</td><td>Perpetual</td></tr>",
                            "<tr><td>cr.snelgrove@gmail.com</td><td></td><td></td><td>1</td><td>Perpetual</td></tr>",
                            "<tr><td>bastianmoldenhauer@web.de</td><td></td><td></td><td>3</td><td>Perpetual</td></tr>",
                            "<tr><td>tbedore@air-worldwide.com</td><td>Tanya</td><td>Bedore</td><td>1</td><td>Perpetual</td></tr>",
                            "<tr><td>bsrinivasan@b2wsoftware.com</td><td>Bihari</td><td>Srinivasan</td><td>1</td><td>Perpetual</td></tr>",
                            "<tr><td>rolf.haken@hs-st.de</td><td>Rolf</td><td>Haken</td><td>1</td><td>Perpetual</td></tr>",
                            "<tr><td>admin-annecy@ubisoft.fr</td><td>Ubisoft</td><td>Annecy</td><td>2</td><td>Perpetual</td></tr>",
                            "<tr><td>a-mori@aist.go.jp</td><td>Akira</td><td>Mori</td><td>1</td><td>Perpetual</td></tr>",
                            "<tr><td>apereira@clinicalplus.ca</td><td>Arun</td><td>Pereira</td><td>1</td><td>Limited by year</td></tr>",
                            "<tr><td>providermanagement@rubicon.eu</td><td>Peter</td><td>Grassnigg</td><td>2</td><td>Perpetual</td></tr>",
                            "<tr><td>kcdsoftware@kcd.co.kr</td><td>korea</td><td>creditdata</td><td>2</td><td>Perpetual</td></tr>",
                            "<tr><td>fgeo@hotmail.com</td><td>Florian</td><td>George</td><td>1</td><td>Perpetual</td></tr>",
                            "<tr><td>anuarsalimdelrio@gmail.com</td><td>Anuar</td><td>Salim del Rio</td><td>3</td><td>Perpetual</td></tr>",
                            "<tr><td>g.j.murphy@sageserpent.com</td><td>Gerard</td><td>Murphy</td><td>2</td><td>Perpetual</td></tr>",
                            "<tr><td>angel.escobedo@live.com</td><td></td><td></td><td>2</td><td>Perpetual</td></tr>",
                            "<tr><td>jrhutch@gmail.com</td><td>Jeremy</td><td>Hutchinson</td><td>1</td><td>Perpetual</td></tr>",
                            "<tr><td>marcinwolicki@gmail.com</td><td></td><td></td><td>2</td><td>Perpetual</td></tr>",
                            "<tr><td>demyte@gmail.com</td><td></td><td></td><td>2</td><td>Limited by year</td></tr>",
                            "<tr><td>teunsegers@qwyrx.com</td><td></td><td></td><td>2</td><td>Perpetual</td></tr>",
                            "<tr><td>carey.bishop@gmail.com</td><td>Carey</td><td>Bishop</td><td>5</td><td>Perpetual</td></tr>",
                            "<tr><td>amcdonald@frontporch.com</td><td></td><td></td><td>6</td><td>Perpetual</td></tr>",
                            "<tr><td>ksenkevich@surroundtech.com</td><td></td><td></td><td>2</td><td>Perpetual</td></tr>",
                            "<tr><td>andreas.ohlund@particular.net</td><td>Andreas</td><td>Öhlund</td><td>1</td><td>Perpetual</td></tr>",
                            "<tr><td>matthew@ledgerscope.com</td><td>Matthew</td><td>Steeples</td><td>6</td><td>Perpetual</td></tr>",
                            "<tr><td>brennen.bukovics@ncr.com</td><td>Brennen</td><td>Bukovics</td><td>1</td><td>Perpetual</td></tr>",
                            "<tr><td>fernell@o2.pl</td><td></td><td></td><td>4</td><td>Perpetual</td></tr>",
                            "<tr><td>afinzel@gmail.com</td><td></td><td></td><td>1</td><td>Perpetual</td></tr>",
                            "<tr><td>sc185227@ncr.com</td><td></td><td></td><td>1</td><td>Perpetual</td></tr>",
                            "<tr><td>bob@pqsystems.com</td><td></td><td></td><td>3</td><td>Perpetual</td></tr>",
                            "<tr><td>peter.shrosbree@gmail.com</td><td></td><td></td><td>4</td><td>Perpetual</td></tr>",
                            "<tr><td>MElkammar@invensense.com</td><td>Mohamed</td><td>Elkammar</td><td>1</td><td>Perpetual</td></tr>",
                            "<tr><td>ahumphrey@genetec.com</td><td>Andrew</td><td>Humphrey</td><td>1</td><td>Perpetual</td></tr>",
                            "<tr><td>han.vermolen@itfoundry.nl</td><td>Han</td><td>Vermolen</td><td>2</td><td>Limited by year</td></tr>",
                            "<tr><td>brice@mentalwarp.com</td><td>Brice</td><td>Vandemoortele</td><td>2</td><td>Perpetual</td></tr>",
                            "<tr><td>it.licensing@veeam.com</td><td>Andrey</td><td>Alyukov</td><td>5</td><td>Limited by year</td></tr>",
                            "<tr><td>maria.vonfoerster@rightrez.com</td><td>MARIA</td><td>VONFOERSTER</td><td>2</td><td>Limited by year</td></tr>",
                            "<tr><td>dnm@pobox.com</td><td>Daniel</td><td>Moniz</td><td>3</td><td>Perpetual</td></tr>",
                            "<tr><td>info@ilogixx.de</td><td>Christian</td><td>Becker</td><td>9</td><td>Perpetual</td></tr>",
                            "<tr><td>marco.ravicini@gmail.com</td><td>Marco</td><td>Ravicini</td><td>6</td><td>Perpetual</td></tr>",
                            "<tr><td>eug.baranov@gmail.com</td><td></td><td></td><td>2</td><td>Perpetual</td></tr>",
                            "<tr><td>dennis.doomen@avivasolutions.nl</td><td>Dennis</td><td>Doomen</td><td>2</td><td>Perpetual</td></tr>",
                            "<tr><td>ben.morris@lexacom.co.uk</td><td>Ben</td><td>Morris</td><td>3</td><td>Perpetual</td></tr>",
                            "<tr><td>deadlydog@hotmail.com</td><td>Daniel</td><td>Schroeder</td><td>1</td><td>Perpetual</td></tr>",
                            "<tr><td>nicholas.hammond@parnic.co.uk</td><td>Nicholas</td><td>Hammond</td><td>1</td><td>Perpetual</td></tr>",
                            "<tr><td>j.koenderink@voortman.net</td><td></td><td></td><td>2</td><td>Perpetual</td></tr>",
                            "<tr><td>ddcruver@gmail.com</td><td>Daniel</td><td>Cruver</td><td>2</td><td>Perpetual</td></tr>",
                            "<tr><td>nigel.sampson@compiledexperience.com</td><td>Nigel</td><td>Sampson</td><td>5</td><td>Perpetual</td></tr>",
                            "<tr><td>balint.juhasz@liferay.com</td><td>Balint</td><td>Juhasz-Nyaradi</td><td>5</td><td>Perpetual</td></tr>",
                            "<tr><td>vegardlarsen</td><td></td><td></td><td>2</td><td>Perpetual</td></tr>",
                            "<tr><td>djkingen@gmail.com</td><td></td><td></td><td>4</td><td>Perpetual</td></tr>",
                            "<tr><td>mpelant@verifiedcredentials.com</td><td></td><td></td><td>4</td><td>Perpetual</td></tr>",
                            "<tr><td>chris@chrisowen.org</td><td></td><td></td><td>5</td><td>Perpetual</td></tr>",
                            "<tr><td>edgar0103sanchez@yahoo.com</td><td></td><td></td><td>1</td><td>Perpetual</td></tr>",
                            "<tr><td>luis_ruiz_pavon@hotmail.com</td><td>LUIS</td><td>RUIZ PAVON</td><td>1</td><td>Perpetual</td></tr>",
                            "<tr><td>kerrps@hotmail.com</td><td>Paul</td><td>Kerr</td><td>1</td><td>Perpetual</td></tr>",
                            "<tr><td>per@agitato.se</td><td>Per</td><td>Westerlund</td><td>2</td><td>Perpetual</td></tr>",
                            "<tr><td>amministrazione@netpolarissrl.it</td><td>Andrea</td><td>Rapisarda</td><td>1</td><td>Limited by year</td></tr>",
                            "<tr><td>madamission@precisioninfinity.com</td><td>Michael</td><td>Adamission</td><td>8</td><td>Perpetual</td></tr>",
                            "<tr><td>acquisti.sistemi@fraternita.it</td><td>Roberto</td><td>Rolfi</td><td>6</td><td>Limited by year</td></tr>",
                            "<tr><td>msellers@iowacomputergurus.com</td><td>MItchel</td><td>Sellers</td><td>1</td><td>Limited by year</td></tr>",
                            "<tr><td>amir@unity3d.com</td><td>Amir</td><td>Ebrahimi</td><td>1</td><td>Limited by date</td></tr>",
                            "<tr><td>andrew@hersee.com</td><td>Andrew</td><td>Hersee</td><td>5</td><td>Perpetual</td></tr>",
                            "<tr><td>daniel.schipper@cgm.com</td><td>Daniel</td><td>Schipper</td><td>20</td><td>Perpetual</td></tr>",
                            "<tr><td>b.kot@hsi.pl</td><td>Jacek</td><td>Stezala</td><td>2</td><td>Perpetual</td></tr>",
                            "<tr><td>gbpublic@outlook.com</td><td>Gautier</td><td>Boder</td><td>2</td><td>Perpetual</td></tr>",
                            "<tr><td>hofmadresu@gmail.com</td><td></td><td></td><td>1</td><td>Perpetual</td></tr>",
                            "<tr><td>xenoputtss@gmail.com</td><td></td><td></td><td>2</td><td>Perpetual</td></tr>",
                            "<tr><td>mail.alex.lyman@gmail.com</td><td></td><td></td><td>2</td><td>Perpetual</td></tr>",
                            "<tr><td>egor@egork.net</td><td>Egor</td><td>Kulikov</td><td>2</td><td>Perpetual</td></tr>",
                            "<tr><td>bradley.uffner@gmail.com</td><td>Bradley</td><td>Uffner</td><td>1</td><td>Perpetual</td></tr>",
                            "<tr><td>jondooger@gmail.com</td><td>Jon</td><td>Bullock</td><td>5</td><td>Perpetual</td></tr>",
                            "<tr><td>t.schmidt@dymatrix.de</td><td></td><td></td><td>1</td><td>Perpetual</td></tr>",
                            "<tr><td>alain.lefebvre@garvin-allen.com</td><td>Alain</td><td>Lefebvre</td><td>5</td><td>Limited by year</td></tr>",
                            "<tr><td>eldiosyeldiablo@gmail.com</td><td></td><td></td><td>2</td><td>Perpetual</td></tr>",
                            "<tr><td>dino@chaverware.com</td><td></td><td></td><td>2</td><td>Perpetual</td></tr>",
                            "<tr><td>stead2k186+semanticmerge@gmail.com</td><td></td><td></td><td>2</td><td>Perpetual</td></tr>",
                            "<tr><td>danstory@gmail.com</td><td></td><td></td><td>6</td><td>Perpetual</td></tr>",
                            "<tr><td>axel@miehler.de</td><td></td><td></td><td>1</td><td>Perpetual</td></tr>",
                            "<tr><td>d.factorial@gmail.com</td><td></td><td></td><td>1</td><td>Perpetual</td></tr>",
                            "<tr><td>nwinder@claritycon.com</td><td></td><td></td><td>2</td><td>Limited by month</td></tr>",
                            "<tr><td>mmoseler@hcfraudshield.com</td><td>Mike</td><td>Moseler</td><td>2</td><td>Perpetual</td></tr>",
                            "<tr><td>timren@microsoft.com</td><td>Tim</td><td>Ren</td><td>1</td><td>Perpetual</td></tr>",
                            "<tr><td>benita.niemann@hlag.com</td><td>Benita</td><td>Niemann</td><td>28</td><td>Limited by year</td></tr>",
                            "<tr><td>sarrington@siteone.com</td><td>Susann</td><td>Arrington</td><td>30</td><td>Perpetual</td></tr>",
                            "<tr><td>henningc@gmail.com</td><td>Henning</td><td>Christiansen</td><td>2</td><td>Perpetual</td></tr>",
                            "<tr><td>eddy.petrisor@gmail.com</td><td></td><td></td><td>2</td><td>Perpetual</td></tr>",
                            "<tr><td>kscelfo@ers-usa.com</td><td>Kenny</td><td>Scelfo</td><td>1</td><td>Perpetual</td></tr>",
                            "<tr><td>josh@jjmatthews.co.uk</td><td>Josh</td><td>Matthews</td><td>1</td><td>Perpetual</td></tr>",
                            "<tr><td>staffangu@outlook.com</td><td>Staffan</td><td>Gustafsson</td><td>3</td><td>Perpetual</td></tr>",
                            "<tr><td>pankaj.mathur@citixsys.com</td><td>Pankaj</td><td>Mathur</td><td>1</td><td>Perpetual</td></tr>",
                            "<tr><td>kinddragon33@gmail.com</td><td></td><td></td><td>3</td><td>Perpetual</td></tr>",
                            "<tr><td>itnotify@kryptiq.com</td><td></td><td></td><td>6</td><td>Perpetual</td></tr>",
                            "<tr><td>shopper@kluge-software.de</td><td></td><td></td><td>3</td><td>Perpetual</td></tr>",
                            "<tr><td>emehdi@gmail.com</td><td></td><td></td><td>1</td><td>Perpetual</td></tr>",
                            "<tr><td>adamn@teamnemitoff.com</td><td>Adam</td><td>Nemitoff</td><td>1</td><td>Limited by year</td></tr>",
                            "<tr><td>filip.staffa@gmail.com</td><td></td><td></td><td>4</td><td>Perpetual</td></tr>",
                            "<tr><td>jarrod.marshall@gmail.com</td><td></td><td></td><td>2</td><td>Limited by year</td></tr>",
                            "<tr><td>development@greatbigsolutions.com</td><td>Kathryn</td><td>Fraser</td><td>1</td><td>Limited by year</td></tr>",
                            "<tr><td>CNMAS_Project@sellafieldsites.com</td><td>Ian</td><td>Cousins</td><td>17</td><td>Perpetual</td></tr>",
                            "<tr><td>kirk.bready@mindfulsoftware.com.au</td><td></td><td></td><td>3</td><td>Perpetual</td></tr>",
                            "<tr><td>svento@reportexec.com</td><td></td><td></td><td>4</td><td>Perpetual</td></tr>",
                            "<tr><td>support@cloudhouse.com</td><td>Support</td><td></td><td>1</td><td>Perpetual</td></tr>",
                            "<tr><td>adam.c.gritt@gmail.com</td><td>Adam</td><td>Gritt</td><td>1</td><td>Perpetual</td></tr>",
                            "<tr><td>kfrantzeskakis@yahoo.gr</td><td></td><td></td><td>1</td><td>Perpetual</td></tr>",
                            "<tr><td>mbarriosc+101@gmail.com</td><td>Maria101</td><td>NULL</td><td>1</td><td>Perpetual</td></tr>",
                            "<tr><td>matthew.clifford@uk.thalesgroup.com</td><td>Matthew</td><td>Clifford</td><td>1</td><td>Perpetual</td></tr>",
                            "<tr><td>rebaser@outlook.com</td><td>David</td><td>Richards</td><td>1</td><td>Perpetual</td></tr>",
                            "<tr><td>syok@tdc.dk</td><td>Sara</td><td>Kristensen</td><td>4</td><td>Perpetual</td></tr>",
                            "<tr><td>simon.lawrence@rsmuk.com</td><td>Simon</td><td>Lawrence</td><td>1</td><td>Perpetual</td></tr>",
                            "<tr><td>purchasing@veyo.com</td><td>Kristen</td><td>Jourdonais</td><td>1</td><td>Limited by year</td></tr>",
                            "<tr><td>samuel.grave@se.abb.com</td><td>Samuel</td><td>Grave</td><td>80</td><td>Perpetual</td></tr>",
                            "<tr><td>ignacio.calvo@gmail.com</td><td>Ignacio</td><td>Calvo</td><td>1</td><td>Perpetual</td></tr>",
                            "<tr><td>agross</td><td></td><td></td><td>2</td><td>Perpetual</td></tr>",
                            "<tr><td>the@dips.no</td><td>Thomas</td><td>Heggelund</td><td>1</td><td>Perpetual</td></tr>",
                            "<tr><td>chrisrico@gmail.com</td><td></td><td></td><td>2</td><td>Perpetual</td></tr>",
                            "<tr><td>ctanner@matoya.org</td><td>Chris</td><td>Tanner</td><td>2</td><td>Perpetual</td></tr>",
                            "<tr><td>ddoomen</td><td></td><td></td><td>2</td><td>Perpetual</td></tr>",
                            "<tr><td>ryan@emerle.net</td><td>Ryan</td><td>Emerle</td><td>1</td><td>Perpetual</td></tr>",
                            "<tr><td>innkjop@initialforce.com</td><td>Initial</td><td>Force</td><td>5</td><td>Limited by year</td></tr>",
                            "<tr><td>urs.enzler@gmail.com</td><td>Urs</td><td>Enzler</td><td>1</td><td>Perpetual</td></tr>",
                            "<tr><td>mike.hanson@mclaren.com</td><td></td><td></td><td>1</td><td>Perpetual</td></tr>",
                            "<tr><td>mheckmann@gmail.com</td><td></td><td></td><td>7</td><td>Perpetual</td></tr>",
                            "<tr><td>nate@collegescheduler.com</td><td></td><td></td><td>1</td><td>Perpetual</td></tr>",
                            "<tr><td>jnaus@cmpcn.org</td><td></td><td></td><td>12</td><td>Perpetual</td></tr>",
                            "<tr><td>james.raden@gmail.com</td><td></td><td></td><td>1</td><td>Limited by month</td></tr>",
                            "<tr><td>thorsten.gaunitz@scentum.de</td><td></td><td></td><td>1</td><td>Perpetual</td></tr>",
                            "<tr><td>christian.lohr@ganshorn.de</td><td></td><td></td><td>3</td><td>Perpetual</td></tr>",
                            "<tr><td>bob@minnrestate.com</td><td>Robert</td><td>Fury</td><td>1</td><td>Limited by year</td></tr>",
                            "<tr><td>ap185215@ncr.com</td><td></td><td></td><td>2</td><td>Perpetual</td></tr>",
                            "<tr><td>t.skarman@live.com</td><td></td><td></td><td>2</td><td>Limited by month</td></tr>",
                            "<tr><td>atarikguney@gmail.com</td><td></td><td></td><td>1</td><td>Perpetual</td></tr>",
                            "<tr><td>keithc1@keithcallis.com</td><td></td><td></td><td>4</td><td>Perpetual</td></tr>",
                            "<tr><td>info@moldesoft.no</td><td></td><td></td><td>2</td><td>Perpetual</td></tr>",
                            "<tr><td>henry.eklof@talokeskus.fi</td><td></td><td></td><td>1</td><td>Perpetual</td></tr>",
                            "<tr><td>stephen.d.brown@baml.com</td><td></td><td></td><td>2</td><td>Perpetual</td></tr>",
                            "<tr><td>adam.c.gritt@gmail.com</td><td>Adam</td><td>Gritt</td><td>1</td><td>Limited by year</td></tr>",
                            "<tr><td>steven.barnes@ncr.com</td><td>Steven</td><td>Barnes</td><td>1</td><td>Perpetual</td></tr>",
                            "<tr><td>eleveld.marcel+plasticscm@gmail.com</td><td>Marcel</td><td>Eleveld</td><td>1</td><td>Perpetual</td></tr>",
                            "<tr><td>sirkirby@gmail.com</td><td>Chris</td><td>Kirby</td><td>2</td><td>Perpetual</td></tr>",
                            "<tr><td>dirk.rombauts@picklespro.com</td><td>Dirk</td><td>Rombauts</td><td>2</td><td>Perpetual</td></tr>",
                            "<tr><td>gauri.mhaskar@ncr.com</td><td>Gauri</td><td>Mhaskar</td><td>1</td><td>Perpetual</td></tr>",
                            "<tr><td>jay.sweeney3@gmail.com</td><td>Jay</td><td>Sweeney</td><td>1</td><td>Limited by month</td></tr>",
                            "<tr><td>chris.hampson@appair.com</td><td>Chris</td><td>Hampson</td><td>1</td><td>Limited by year</td></tr>",
                            "<tr><td>bcarrier@tpx.com</td><td>Bill</td><td>Carrier</td><td>3</td><td>Perpetual</td></tr>",
                            "<tr><td>rafael.forero@unity3d.com</td><td>Rafael</td><td>Forero</td><td>1</td><td>Perpetual</td></tr>",
                            "<tr><td>axel.speier@sbdinc.com</td><td>Axel</td><td>Speier</td><td>10</td><td>Perpetual</td></tr>",
                            "<tr><td>vincentredrum@gmail.com</td><td>Vicenç</td><td>García</td><td>1</td><td>Perpetual</td></tr>",
                            "<tr><td>harms.patrick@gmail.com</td><td>Patrick</td><td>Harms</td><td>1</td><td>Limited by year</td></tr>",
                            "<tr><td>walter.lizardo@nyu.edu</td><td>Walter</td><td>Lizardo</td><td>59</td><td>Perpetual</td></tr>",
                            "<tr><td>h.eskandari@gmail.com</td><td>Hadi</td><td>Eskandari</td><td>1</td><td>Perpetual</td></tr>",
                            "<tr><td>msleiners@gmail.com</td><td></td><td></td><td>3</td><td>Perpetual</td></tr>",
                            "<tr><td>stephen.welsh@unifiedfx.com</td><td></td><td></td><td>1</td><td>Limited by year</td></tr>",
                            "<tr><td>maksim.charneha@yandex.ru</td><td>Maksim</td><td>Charneha</td><td>1</td><td>Limited by month</td></tr>",
                            "<tr><td>marco@zwyssig.info</td><td></td><td></td><td>1</td><td>Perpetual</td></tr>",
                            "<tr><td>laurent.kempe@techheadbrothers.com</td><td></td><td></td><td>2</td><td>Perpetual</td></tr>",
                            "<tr><td>judy.webb@alaska.gov</td><td>Judy</td><td>Webb</td><td>2</td><td>Perpetual</td></tr>",
                            "<tr><td>etemer@slb.com</td><td>Elias</td><td>Temer</td><td>1</td><td>Perpetual</td></tr>",
                            "<tr><td>rao.ritesh@gmail.com</td><td></td><td></td><td>1</td><td>Perpetual</td></tr>",
                            "<tr><td>erwin@vandervalk.pro</td><td>Erwin</td><td>van der Valk</td><td>2</td><td>Perpetual</td></tr>",
                            "<tr><td>felan7476099@hotmail.com</td><td>Todd</td><td>Thompson</td><td>2</td><td>Perpetual</td></tr>",
                            "<tr><td>r.hochmuth@car-i-solutions.de</td><td>Reiner</td><td>Hochmuth</td><td>2</td><td>Perpetual</td></tr>",
                            "<tr><td>jesweeney@wabtec.com</td><td>Jerral</td><td>Sweeney</td><td>5</td><td>Limited by year</td></tr>",
                            "<tr><td>t.dorsch@ibgndt.de</td><td>Thomas</td><td>Dorsch</td><td>2</td><td>Limited by year</td></tr>",
                            "<tr><td>krt@videometer.com</td><td>Kristian</td><td>Thomsen</td><td>4</td><td>Limited by year</td></tr>",
                            "<tr><td>nicolas.knoll@trumpf.com</td><td>Nicolas</td><td>Knoll</td><td>1</td><td>Perpetual</td></tr>",
                            "<tr><td>Benedict_Curatolo@steris.com</td><td>Ben</td><td>Curatolo</td><td>1</td><td>Limited by year</td></tr>",
                            "<tr><td>nathan.broadbent@soccermanager.com</td><td>Nathan</td><td>Broadbent</td><td>1</td><td>Limited by month</td></tr>",
                            "<tr><td>cst@techtalk.at</td><td>Christian</td><td>Strasil-Ertlbauer</td><td>3</td><td>Limited by year</td></tr>",
                            "<tr><td>dbustamante@mmgct.com</td><td>Diego</td><td>Bustamante</td><td>1</td><td>Perpetual</td></tr>",
                            "<tr><td>wim@vander-vegt.nl</td><td>Wim</td><td>van der Vegt</td><td>2</td><td>Perpetual</td></tr>",
                            "<tr><td>stuart.clift@gwplc.com</td><td>Stuart</td><td>Clift</td><td>1</td><td>Perpetual</td></tr>",
                            "<tr><td>miryamgsm</td><td></td><td></td><td>42</td><td>Perpetual</td></tr>",
                            "<tr><td>maciej@warszawski.pro</td><td>Maciej</td><td>Warszawski</td><td>2</td><td>Limited by month</td></tr>",
                            "<tr><td>cu3po42@outlook.com</td><td>Copper</td><td>Phosphate</td><td>1</td><td>Perpetual</td></tr>",
                            "<tr><td>info@unatec.es</td><td></td><td></td><td>1</td><td>Perpetual</td></tr>",
                            "<tr><td>kdines@gmail.com</td><td></td><td></td><td>1</td><td>Perpetual</td></tr>",
                            "<tr><td>roel.vlemmings@redblacksoftware.com</td><td>Roel</td><td>Vlemmings</td><td>5</td><td>Limited by year</td></tr>",
                            "<tr><td>zack.t.smith37@gmail.com</td><td>Zack</td><td>Smith</td><td>1</td><td>Perpetual</td></tr>",
                            "<tr><td>aleytze@gmail.com</td><td>Andrew</td><td>Leytze</td><td>4</td><td>Perpetual</td></tr>",
                            "<tr><td>adam.skinner@gmail.com</td><td></td><td></td><td>2</td><td>Perpetual</td></tr>",
                            "<tr><td>imgovind@live.com</td><td></td><td></td><td>2</td><td>Perpetual</td></tr>",
                            "<tr><td>uwe_nassal@agilent.com</td><td>Uwe</td><td>Nassal</td><td>23</td><td>Perpetual</td></tr>",
                            "<tr><td>jmiguel.hdez@gmail.com</td><td></td><td></td><td>3</td><td>Perpetual</td></tr>",
                            "<tr><td>entwicklung@mitsolutions.de</td><td></td><td></td><td>2</td><td>Perpetual</td></tr>",
                            "<tr><td>h.knitsch@keller-kgs.com</td><td>H</td><td>Knitsch</td><td>3</td><td>Perpetual</td></tr>",
                            "<tr><td>jdepotter@slb.com</td><td>Jerome</td><td>Depotter</td><td>1</td><td>Perpetual</td></tr>",
                            "<tr><td>edinburgh@petex.com</td><td>Derek</td><td>Angelis</td><td>2</td><td>Perpetual</td></tr>",
                            "<tr><td>cornelia.oeschger@innoveo.com</td><td>Cornelia</td><td>Oeschger</td><td>17</td><td>Limited by year</td></tr>",
                            "<tr><td>admin@computeruniverse.net</td><td>Maik</td><td>Friedrich</td><td>7</td><td>Limited by year</td></tr>",
                            "<tr><td>telematics.admin@teltonika.lt</td><td>Teltonika</td><td>Telematics</td><td>5</td><td>Limited by year</td></tr>",
                            "</table>"
                        ]
                    }
                }
            ],
            "execution_count": 26
        }
    ]
}